{
  "nbformat": 4,
  "nbformat_minor": 0,
  "metadata": {
    "colab": {
      "name": "Rakuten_Evaluation.ipynb",
      "version": "0.3.2",
      "provenance": [],
      "include_colab_link": true
    },
    "kernelspec": {
      "name": "python3",
      "display_name": "Python 3"
    }
  },
  "cells": [
    {
      "cell_type": "markdown",
      "metadata": {
        "id": "view-in-github",
        "colab_type": "text"
      },
      "source": [
        "<a href=\"https://colab.research.google.com/github/ramdeveloper1985/datascience/blob/master/Rakuten_Evaluation.ipynb\" target=\"_parent\"><img src=\"https://colab.research.google.com/assets/colab-badge.svg\" alt=\"Open In Colab\"/></a>"
      ]
    },
    {
      "cell_type": "code",
      "metadata": {
        "id": "LnRCmnL7xLiS",
        "colab_type": "code",
        "colab": {}
      },
      "source": [
        "import os\n",
        "import matplotlib.pyplot as plt\n",
        "import seaborn as sns\n",
        "import numpy as np\n",
        "import pandas as pd\n",
        "import statsmodels.api as sm\n",
        "%matplotlib inline \n",
        "plt.rcParams['figure.figsize'] = (6, 6) ### Setting the size of the Plots"
      ],
      "execution_count": 0,
      "outputs": []
    },
    {
      "cell_type": "code",
      "metadata": {
        "id": "Cn-Fos6U6Nnf",
        "colab_type": "code",
        "colab": {
          "base_uri": "https://localhost:8080/",
          "height": 34
        },
        "outputId": "c01d383f-d3c0-409f-d9ce-ab755d0dd8c6"
      },
      "source": [
        "dirpath = os.getcwd()\n",
        "print(dirpath)"
      ],
      "execution_count": 7,
      "outputs": [
        {
          "output_type": "stream",
          "text": [
            "/content\n"
          ],
          "name": "stdout"
        }
      ]
    },
    {
      "cell_type": "code",
      "metadata": {
        "id": "0qeWokxS6QdS",
        "colab_type": "code",
        "colab": {}
      },
      "source": [
        "PATH = dirpath+'/data/'\n",
        "if not os.path.exists(PATH):\n",
        "    os.makedirs(PATH)"
      ],
      "execution_count": 0,
      "outputs": []
    },
    {
      "cell_type": "code",
      "metadata": {
        "id": "EkeOaPgF639T",
        "colab_type": "code",
        "colab": {
          "base_uri": "https://localhost:8080/",
          "height": 34
        },
        "outputId": "55757887-4cb1-4eb1-bbad-339f21371d14"
      },
      "source": [
        "print(PATH)"
      ],
      "execution_count": 19,
      "outputs": [
        {
          "output_type": "stream",
          "text": [
            "/content/data/\n"
          ],
          "name": "stdout"
        }
      ]
    },
    {
      "cell_type": "code",
      "metadata": {
        "id": "JVqUh2tY7CbB",
        "colab_type": "code",
        "colab": {
          "base_uri": "https://localhost:8080/",
          "height": 34
        },
        "outputId": "c9860b05-1b8f-4786-fbc0-fa1a3069b1c1"
      },
      "source": [
        "dataFilePath=PATH+'data.csv'\n",
        "print(dataFilePath)"
      ],
      "execution_count": 11,
      "outputs": [
        {
          "output_type": "stream",
          "text": [
            "/content/data/data.csv\n"
          ],
          "name": "stdout"
        }
      ]
    },
    {
      "cell_type": "code",
      "metadata": {
        "id": "WgaRCN856yGg",
        "colab_type": "code",
        "colab": {
          "base_uri": "https://localhost:8080/",
          "height": 34
        },
        "outputId": "d838ffaf-efbe-4aa6-f063-b563176fc4a2"
      },
      "source": [
        "raw_data = pd.read_csv(dataFilePath,index_col='car name')\n",
        "data = raw_data.copy()\n",
        "data.shape"
      ],
      "execution_count": 28,
      "outputs": [
        {
          "output_type": "execute_result",
          "data": {
            "text/plain": [
              "(398, 8)"
            ]
          },
          "metadata": {
            "tags": []
          },
          "execution_count": 28
        }
      ]
    },
    {
      "cell_type": "code",
      "metadata": {
        "id": "y-51z-Sn8FdV",
        "colab_type": "code",
        "colab": {
          "base_uri": "https://localhost:8080/",
          "height": 225
        },
        "outputId": "ed9e7ef7-eae9-4381-c292-78c6bdac9915"
      },
      "source": [
        "data.head()"
      ],
      "execution_count": 29,
      "outputs": [
        {
          "output_type": "execute_result",
          "data": {
            "text/html": [
              "<div>\n",
              "<style scoped>\n",
              "    .dataframe tbody tr th:only-of-type {\n",
              "        vertical-align: middle;\n",
              "    }\n",
              "\n",
              "    .dataframe tbody tr th {\n",
              "        vertical-align: top;\n",
              "    }\n",
              "\n",
              "    .dataframe thead th {\n",
              "        text-align: right;\n",
              "    }\n",
              "</style>\n",
              "<table border=\"1\" class=\"dataframe\">\n",
              "  <thead>\n",
              "    <tr style=\"text-align: right;\">\n",
              "      <th></th>\n",
              "      <th>mpg</th>\n",
              "      <th>cylinders</th>\n",
              "      <th>displacement</th>\n",
              "      <th>horsepower</th>\n",
              "      <th>weight</th>\n",
              "      <th>acceleration</th>\n",
              "      <th>model year</th>\n",
              "      <th>origin</th>\n",
              "    </tr>\n",
              "    <tr>\n",
              "      <th>car name</th>\n",
              "      <th></th>\n",
              "      <th></th>\n",
              "      <th></th>\n",
              "      <th></th>\n",
              "      <th></th>\n",
              "      <th></th>\n",
              "      <th></th>\n",
              "      <th></th>\n",
              "    </tr>\n",
              "  </thead>\n",
              "  <tbody>\n",
              "    <tr>\n",
              "      <th>chevrolet chevelle malibu</th>\n",
              "      <td>18.0</td>\n",
              "      <td>8</td>\n",
              "      <td>307.0</td>\n",
              "      <td>130.0</td>\n",
              "      <td>3504</td>\n",
              "      <td>12.0</td>\n",
              "      <td>70</td>\n",
              "      <td>1</td>\n",
              "    </tr>\n",
              "    <tr>\n",
              "      <th>buick skylark 320</th>\n",
              "      <td>15.0</td>\n",
              "      <td>8</td>\n",
              "      <td>350.0</td>\n",
              "      <td>165.0</td>\n",
              "      <td>3693</td>\n",
              "      <td>11.5</td>\n",
              "      <td>70</td>\n",
              "      <td>1</td>\n",
              "    </tr>\n",
              "    <tr>\n",
              "      <th>plymouth satellite</th>\n",
              "      <td>18.0</td>\n",
              "      <td>8</td>\n",
              "      <td>318.0</td>\n",
              "      <td>150.0</td>\n",
              "      <td>3436</td>\n",
              "      <td>11.0</td>\n",
              "      <td>70</td>\n",
              "      <td>1</td>\n",
              "    </tr>\n",
              "    <tr>\n",
              "      <th>amc rebel sst</th>\n",
              "      <td>16.0</td>\n",
              "      <td>8</td>\n",
              "      <td>304.0</td>\n",
              "      <td>150.0</td>\n",
              "      <td>3433</td>\n",
              "      <td>NaN</td>\n",
              "      <td>70</td>\n",
              "      <td>1</td>\n",
              "    </tr>\n",
              "    <tr>\n",
              "      <th>ford torino</th>\n",
              "      <td>17.0</td>\n",
              "      <td>8</td>\n",
              "      <td>302.0</td>\n",
              "      <td>140.0</td>\n",
              "      <td>3449</td>\n",
              "      <td>10.5</td>\n",
              "      <td>70</td>\n",
              "      <td>1</td>\n",
              "    </tr>\n",
              "  </tbody>\n",
              "</table>\n",
              "</div>"
            ],
            "text/plain": [
              "                            mpg  cylinders  displacement  horsepower  weight  \\\n",
              "car name                                                                       \n",
              "chevrolet chevelle malibu  18.0          8         307.0       130.0    3504   \n",
              "buick skylark 320          15.0          8         350.0       165.0    3693   \n",
              "plymouth satellite         18.0          8         318.0       150.0    3436   \n",
              "amc rebel sst              16.0          8         304.0       150.0    3433   \n",
              "ford torino                17.0          8         302.0       140.0    3449   \n",
              "\n",
              "                           acceleration  model year  origin  \n",
              "car name                                                     \n",
              "chevrolet chevelle malibu          12.0          70       1  \n",
              "buick skylark 320                  11.5          70       1  \n",
              "plymouth satellite                 11.0          70       1  \n",
              "amc rebel sst                       NaN          70       1  \n",
              "ford torino                        10.5          70       1  "
            ]
          },
          "metadata": {
            "tags": []
          },
          "execution_count": 29
        }
      ]
    },
    {
      "cell_type": "code",
      "metadata": {
        "id": "XdKmUsy9883j",
        "colab_type": "code",
        "colab": {}
      },
      "source": [
        "data.rename(columns={'model year':'model_year'}, inplace=True)"
      ],
      "execution_count": 0,
      "outputs": []
    },
    {
      "cell_type": "code",
      "metadata": {
        "id": "KmHD9bGZ70os",
        "colab_type": "code",
        "colab": {
          "base_uri": "https://localhost:8080/",
          "height": 252
        },
        "outputId": "55a54008-3d5c-4748-be80-c9ab0ba2c989"
      },
      "source": [
        "print(data.info())"
      ],
      "execution_count": 31,
      "outputs": [
        {
          "output_type": "stream",
          "text": [
            "<class 'pandas.core.frame.DataFrame'>\n",
            "Index: 398 entries, chevrolet chevelle malibu to chevy s-10\n",
            "Data columns (total 8 columns):\n",
            "mpg             398 non-null float64\n",
            "cylinders       398 non-null int64\n",
            "displacement    398 non-null float64\n",
            "horsepower      392 non-null float64\n",
            "weight          398 non-null int64\n",
            "acceleration    394 non-null float64\n",
            "model_year      398 non-null int64\n",
            "origin          398 non-null int64\n",
            "dtypes: float64(4), int64(4)\n",
            "memory usage: 28.0+ KB\n",
            "None\n"
          ],
          "name": "stdout"
        }
      ]
    },
    {
      "cell_type": "code",
      "metadata": {
        "id": "VX4PaIMkU-Aw",
        "colab_type": "code",
        "colab": {
          "base_uri": "https://localhost:8080/",
          "height": 284
        },
        "outputId": "0aeccfd7-33f3-46d1-a0b7-aa10946f02de"
      },
      "source": [
        "data.describe()"
      ],
      "execution_count": 32,
      "outputs": [
        {
          "output_type": "execute_result",
          "data": {
            "text/html": [
              "<div>\n",
              "<style scoped>\n",
              "    .dataframe tbody tr th:only-of-type {\n",
              "        vertical-align: middle;\n",
              "    }\n",
              "\n",
              "    .dataframe tbody tr th {\n",
              "        vertical-align: top;\n",
              "    }\n",
              "\n",
              "    .dataframe thead th {\n",
              "        text-align: right;\n",
              "    }\n",
              "</style>\n",
              "<table border=\"1\" class=\"dataframe\">\n",
              "  <thead>\n",
              "    <tr style=\"text-align: right;\">\n",
              "      <th></th>\n",
              "      <th>mpg</th>\n",
              "      <th>cylinders</th>\n",
              "      <th>displacement</th>\n",
              "      <th>horsepower</th>\n",
              "      <th>weight</th>\n",
              "      <th>acceleration</th>\n",
              "      <th>model_year</th>\n",
              "      <th>origin</th>\n",
              "    </tr>\n",
              "  </thead>\n",
              "  <tbody>\n",
              "    <tr>\n",
              "      <th>count</th>\n",
              "      <td>398.000000</td>\n",
              "      <td>398.000000</td>\n",
              "      <td>398.000000</td>\n",
              "      <td>392.000000</td>\n",
              "      <td>398.000000</td>\n",
              "      <td>394.000000</td>\n",
              "      <td>398.000000</td>\n",
              "      <td>398.000000</td>\n",
              "    </tr>\n",
              "    <tr>\n",
              "      <th>mean</th>\n",
              "      <td>23.514573</td>\n",
              "      <td>6.766332</td>\n",
              "      <td>193.425879</td>\n",
              "      <td>104.469388</td>\n",
              "      <td>2970.424623</td>\n",
              "      <td>15.575381</td>\n",
              "      <td>76.512563</td>\n",
              "      <td>1.572864</td>\n",
              "    </tr>\n",
              "    <tr>\n",
              "      <th>std</th>\n",
              "      <td>7.815984</td>\n",
              "      <td>20.365258</td>\n",
              "      <td>104.269838</td>\n",
              "      <td>38.491160</td>\n",
              "      <td>846.841774</td>\n",
              "      <td>2.765275</td>\n",
              "      <td>8.326377</td>\n",
              "      <td>0.802055</td>\n",
              "    </tr>\n",
              "    <tr>\n",
              "      <th>min</th>\n",
              "      <td>9.000000</td>\n",
              "      <td>3.000000</td>\n",
              "      <td>68.000000</td>\n",
              "      <td>46.000000</td>\n",
              "      <td>1613.000000</td>\n",
              "      <td>8.000000</td>\n",
              "      <td>70.000000</td>\n",
              "      <td>1.000000</td>\n",
              "    </tr>\n",
              "    <tr>\n",
              "      <th>25%</th>\n",
              "      <td>17.500000</td>\n",
              "      <td>4.000000</td>\n",
              "      <td>104.250000</td>\n",
              "      <td>75.000000</td>\n",
              "      <td>2223.750000</td>\n",
              "      <td>13.825000</td>\n",
              "      <td>73.000000</td>\n",
              "      <td>1.000000</td>\n",
              "    </tr>\n",
              "    <tr>\n",
              "      <th>50%</th>\n",
              "      <td>23.000000</td>\n",
              "      <td>4.000000</td>\n",
              "      <td>148.500000</td>\n",
              "      <td>93.500000</td>\n",
              "      <td>2803.500000</td>\n",
              "      <td>15.500000</td>\n",
              "      <td>76.000000</td>\n",
              "      <td>1.000000</td>\n",
              "    </tr>\n",
              "    <tr>\n",
              "      <th>75%</th>\n",
              "      <td>29.000000</td>\n",
              "      <td>8.000000</td>\n",
              "      <td>262.000000</td>\n",
              "      <td>126.000000</td>\n",
              "      <td>3608.000000</td>\n",
              "      <td>17.200000</td>\n",
              "      <td>79.000000</td>\n",
              "      <td>2.000000</td>\n",
              "    </tr>\n",
              "    <tr>\n",
              "      <th>max</th>\n",
              "      <td>46.600000</td>\n",
              "      <td>400.000000</td>\n",
              "      <td>455.000000</td>\n",
              "      <td>230.000000</td>\n",
              "      <td>5140.000000</td>\n",
              "      <td>24.800000</td>\n",
              "      <td>182.000000</td>\n",
              "      <td>3.000000</td>\n",
              "    </tr>\n",
              "  </tbody>\n",
              "</table>\n",
              "</div>"
            ],
            "text/plain": [
              "              mpg   cylinders  displacement  horsepower       weight  \\\n",
              "count  398.000000  398.000000    398.000000  392.000000   398.000000   \n",
              "mean    23.514573    6.766332    193.425879  104.469388  2970.424623   \n",
              "std      7.815984   20.365258    104.269838   38.491160   846.841774   \n",
              "min      9.000000    3.000000     68.000000   46.000000  1613.000000   \n",
              "25%     17.500000    4.000000    104.250000   75.000000  2223.750000   \n",
              "50%     23.000000    4.000000    148.500000   93.500000  2803.500000   \n",
              "75%     29.000000    8.000000    262.000000  126.000000  3608.000000   \n",
              "max     46.600000  400.000000    455.000000  230.000000  5140.000000   \n",
              "\n",
              "       acceleration  model_year      origin  \n",
              "count    394.000000  398.000000  398.000000  \n",
              "mean      15.575381   76.512563    1.572864  \n",
              "std        2.765275    8.326377    0.802055  \n",
              "min        8.000000   70.000000    1.000000  \n",
              "25%       13.825000   73.000000    1.000000  \n",
              "50%       15.500000   76.000000    1.000000  \n",
              "75%       17.200000   79.000000    2.000000  \n",
              "max       24.800000  182.000000    3.000000  "
            ]
          },
          "metadata": {
            "tags": []
          },
          "execution_count": 32
        }
      ]
    },
    {
      "cell_type": "markdown",
      "metadata": {
        "id": "e3k4bhJ85r_t",
        "colab_type": "text"
      },
      "source": [
        "**Univariate Analysis** - Catogorical data - *cylinders*"
      ]
    },
    {
      "cell_type": "code",
      "metadata": {
        "id": "6AzQi2ox3xly",
        "colab_type": "code",
        "colab": {
          "base_uri": "https://localhost:8080/",
          "height": 577
        },
        "outputId": "17905c57-38eb-4dcb-ee3b-a7e83e521d78"
      },
      "source": [
        "#print(data.cylinders.unique())\n",
        "print(data.groupby('cylinders').size())\n",
        "sns.countplot(data.cylinders,label=\"Count\")"
      ],
      "execution_count": 33,
      "outputs": [
        {
          "output_type": "stream",
          "text": [
            "cylinders\n",
            "3        4\n",
            "4      203\n",
            "5        3\n",
            "6       83\n",
            "8      102\n",
            "60       1\n",
            "80       1\n",
            "400      1\n",
            "dtype: int64\n"
          ],
          "name": "stdout"
        },
        {
          "output_type": "execute_result",
          "data": {
            "text/plain": [
              "<matplotlib.axes._subplots.AxesSubplot at 0x7f6f5a2ef4a8>"
            ]
          },
          "metadata": {
            "tags": []
          },
          "execution_count": 33
        },
        {
          "output_type": "display_data",
          "data": {
            "image/png": "[encoded data removed]",
            "text/plain": [
              "<Figure size 432x432 with 1 Axes>"
            ]
          },
          "metadata": {
            "tags": []
          }
        }
      ]
    },
    {
      "cell_type": "code",
      "metadata": {
        "id": "LTyN0Lfw6TgU",
        "colab_type": "code",
        "colab": {
          "base_uri": "https://localhost:8080/",
          "height": 166
        },
        "outputId": "dc98cd81-ed8a-4f92-f102-2dc359072e82"
      },
      "source": [
        "data.query('cylinders==60 | cylinders==80 | cylinders==400')"
      ],
      "execution_count": 34,
      "outputs": [
        {
          "output_type": "execute_result",
          "data": {
            "text/html": [
              "<div>\n",
              "<style scoped>\n",
              "    .dataframe tbody tr th:only-of-type {\n",
              "        vertical-align: middle;\n",
              "    }\n",
              "\n",
              "    .dataframe tbody tr th {\n",
              "        vertical-align: top;\n",
              "    }\n",
              "\n",
              "    .dataframe thead th {\n",
              "        text-align: right;\n",
              "    }\n",
              "</style>\n",
              "<table border=\"1\" class=\"dataframe\">\n",
              "  <thead>\n",
              "    <tr style=\"text-align: right;\">\n",
              "      <th></th>\n",
              "      <th>mpg</th>\n",
              "      <th>cylinders</th>\n",
              "      <th>displacement</th>\n",
              "      <th>horsepower</th>\n",
              "      <th>weight</th>\n",
              "      <th>acceleration</th>\n",
              "      <th>model_year</th>\n",
              "      <th>origin</th>\n",
              "    </tr>\n",
              "    <tr>\n",
              "      <th>car name</th>\n",
              "      <th></th>\n",
              "      <th></th>\n",
              "      <th></th>\n",
              "      <th></th>\n",
              "      <th></th>\n",
              "      <th></th>\n",
              "      <th></th>\n",
              "      <th></th>\n",
              "    </tr>\n",
              "  </thead>\n",
              "  <tbody>\n",
              "    <tr>\n",
              "      <th>amc ambassador dpl</th>\n",
              "      <td>15.0</td>\n",
              "      <td>80</td>\n",
              "      <td>390.0</td>\n",
              "      <td>190.0</td>\n",
              "      <td>3850</td>\n",
              "      <td>8.5</td>\n",
              "      <td>70</td>\n",
              "      <td>1</td>\n",
              "    </tr>\n",
              "    <tr>\n",
              "      <th>plymouth duster</th>\n",
              "      <td>22.0</td>\n",
              "      <td>60</td>\n",
              "      <td>198.0</td>\n",
              "      <td>95.0</td>\n",
              "      <td>2833</td>\n",
              "      <td>15.5</td>\n",
              "      <td>70</td>\n",
              "      <td>1</td>\n",
              "    </tr>\n",
              "    <tr>\n",
              "      <th>volkswagen super beetle</th>\n",
              "      <td>26.0</td>\n",
              "      <td>400</td>\n",
              "      <td>97.0</td>\n",
              "      <td>46.0</td>\n",
              "      <td>1950</td>\n",
              "      <td>21.0</td>\n",
              "      <td>73</td>\n",
              "      <td>2</td>\n",
              "    </tr>\n",
              "  </tbody>\n",
              "</table>\n",
              "</div>"
            ],
            "text/plain": [
              "                          mpg  cylinders  displacement  horsepower  weight  \\\n",
              "car name                                                                     \n",
              "amc ambassador dpl       15.0         80         390.0       190.0    3850   \n",
              "plymouth duster          22.0         60         198.0        95.0    2833   \n",
              "volkswagen super beetle  26.0        400          97.0        46.0    1950   \n",
              "\n",
              "                         acceleration  model_year  origin  \n",
              "car name                                                   \n",
              "amc ambassador dpl                8.5          70       1  \n",
              "plymouth duster                  15.5          70       1  \n",
              "volkswagen super beetle          21.0          73       2  "
            ]
          },
          "metadata": {
            "tags": []
          },
          "execution_count": 34
        }
      ]
    },
    {
      "cell_type": "code",
      "metadata": {
        "id": "MgesEFzcG-ot",
        "colab_type": "code",
        "colab": {
          "base_uri": "https://localhost:8080/",
          "height": 381
        },
        "outputId": "603bf021-946f-4d1e-da1d-114dd4c0dbf8"
      },
      "source": [
        "sns.boxplot( y=data[\"cylinders\"] )\n",
        "#sns.plt.show()\n"
      ],
      "execution_count": 35,
      "outputs": [
        {
          "output_type": "execute_result",
          "data": {
            "text/plain": [
              "<matplotlib.axes._subplots.AxesSubplot at 0x7f6f59fc37f0>"
            ]
          },
          "metadata": {
            "tags": []
          },
          "execution_count": 35
        },
        {
          "output_type": "display_data",
          "data": {
            "image/png": "[encoded data removed]",
            "text/plain": [
              "<Figure size 432x432 with 1 Axes>"
            ]
          },
          "metadata": {
            "tags": []
          }
        }
      ]
    },
    {
      "cell_type": "code",
      "metadata": {
        "id": "EN0wyjUtF31R",
        "colab_type": "code",
        "colab": {
          "base_uri": "https://localhost:8080/",
          "height": 409
        },
        "outputId": "b634f330-725b-430c-c6a5-eb860318beb8"
      },
      "source": [
        "indexNames = data[(data['cylinders'] == 60) | (data['cylinders'] == 80) |(data['cylinders'] == 400)].index\n",
        "#print(indexNames)\n",
        "data.drop(indexNames , inplace=True)\n",
        "sns.countplot(data['cylinders'],label=\"Count\")\n"
      ],
      "execution_count": 36,
      "outputs": [
        {
          "output_type": "execute_result",
          "data": {
            "text/plain": [
              "<matplotlib.axes._subplots.AxesSubplot at 0x7f6f58fb4c88>"
            ]
          },
          "metadata": {
            "tags": []
          },
          "execution_count": 36
        },
        {
          "output_type": "display_data",
          "data": {
            "image/png": "[encoded data removed]",
            "text/plain": [
              "<Figure size 432x432 with 1 Axes>"
            ]
          },
          "metadata": {
            "tags": []
          }
        }
      ]
    },
    {
      "cell_type": "code",
      "metadata": {
        "id": "zJdoPA94JAZ0",
        "colab_type": "code",
        "colab": {
          "base_uri": "https://localhost:8080/",
          "height": 381
        },
        "outputId": "3d8a1b83-0664-4441-cf23-5940b00edecc"
      },
      "source": [
        "sns.boxplot(y=data[\"cylinders\"])"
      ],
      "execution_count": 37,
      "outputs": [
        {
          "output_type": "execute_result",
          "data": {
            "text/plain": [
              "<matplotlib.axes._subplots.AxesSubplot at 0x7f6f58f69390>"
            ]
          },
          "metadata": {
            "tags": []
          },
          "execution_count": 37
        },
        {
          "output_type": "display_data",
          "data": {
            "image/png": "[encoded data removed]",
            "text/plain": [
              "<Figure size 432x432 with 1 Axes>"
            ]
          },
          "metadata": {
            "tags": []
          }
        }
      ]
    },
    {
      "cell_type": "code",
      "metadata": {
        "id": "3IVt4nZQJvop",
        "colab_type": "code",
        "colab": {}
      },
      "source": [
        "#data['cylinders'] = data['cylinders'].replace({3: 'cylinders_3', 4: 'cylinders_4',5: 'cylinders_5',6: 'cylinders_6',8: 'cylinders_8'})\n",
        "#data.cylinders.unique()"
      ],
      "execution_count": 0,
      "outputs": []
    },
    {
      "cell_type": "code",
      "metadata": {
        "id": "hOBR2MLrKUOS",
        "colab_type": "code",
        "colab": {}
      },
      "source": [
        "#data = pd.get_dummies(data, columns=['origin'])\n",
        "#data.head()"
      ],
      "execution_count": 0,
      "outputs": []
    },
    {
      "cell_type": "markdown",
      "metadata": {
        "id": "tfmGl53UPRzQ",
        "colab_type": "text"
      },
      "source": [
        "**Univariate Analysis** - Catogorical data - *model_year*"
      ]
    },
    {
      "cell_type": "code",
      "metadata": {
        "id": "w3QmIkSv7oWL",
        "colab_type": "code",
        "colab": {
          "base_uri": "https://localhost:8080/",
          "height": 694
        },
        "outputId": "2bfaadcd-0148-49b2-e5ca-003f5e113bef"
      },
      "source": [
        "print(data.groupby('model_year').size())\n",
        "sns.countplot(data['model_year'],label=\"Count\")"
      ],
      "execution_count": 38,
      "outputs": [
        {
          "output_type": "stream",
          "text": [
            "model_year\n",
            "70     27\n",
            "71     28\n",
            "72     28\n",
            "73     38\n",
            "74     26\n",
            "75     30\n",
            "76     34\n",
            "77     28\n",
            "78     36\n",
            "79     29\n",
            "80     29\n",
            "81     28\n",
            "82     30\n",
            "181     1\n",
            "182     1\n",
            "dtype: int64\n"
          ],
          "name": "stdout"
        },
        {
          "output_type": "execute_result",
          "data": {
            "text/plain": [
              "<matplotlib.axes._subplots.AxesSubplot at 0x7f6f58ed2c50>"
            ]
          },
          "metadata": {
            "tags": []
          },
          "execution_count": 38
        },
        {
          "output_type": "display_data",
          "data": {
            "image/png": "[encoded data removed]",
            "text/plain": [
              "<Figure size 432x432 with 1 Axes>"
            ]
          },
          "metadata": {
            "tags": []
          }
        }
      ]
    },
    {
      "cell_type": "code",
      "metadata": {
        "id": "7EVgj5C7JlMC",
        "colab_type": "code",
        "colab": {
          "base_uri": "https://localhost:8080/",
          "height": 381
        },
        "outputId": "f69e9900-4feb-4498-fed7-81e83151221f"
      },
      "source": [
        "sns.boxplot(y=data[\"model_year\"])"
      ],
      "execution_count": 39,
      "outputs": [
        {
          "output_type": "execute_result",
          "data": {
            "text/plain": [
              "<matplotlib.axes._subplots.AxesSubplot at 0x7f6f5a2b56a0>"
            ]
          },
          "metadata": {
            "tags": []
          },
          "execution_count": 39
        },
        {
          "output_type": "display_data",
          "data": {
            "image/png": "[encoded data removed]",
            "text/plain": [
              "<Figure size 432x432 with 1 Axes>"
            ]
          },
          "metadata": {
            "tags": []
          }
        }
      ]
    },
    {
      "cell_type": "code",
      "metadata": {
        "id": "X6Koauh35rpa",
        "colab_type": "code",
        "colab": {
          "base_uri": "https://localhost:8080/",
          "height": 136
        },
        "outputId": "026d7cde-fd72-4903-cfde-4fcd7a8ef703"
      },
      "source": [
        "data.query('model_year==181 | model_year==182')"
      ],
      "execution_count": 40,
      "outputs": [
        {
          "output_type": "execute_result",
          "data": {
            "text/html": [
              "<div>\n",
              "<style scoped>\n",
              "    .dataframe tbody tr th:only-of-type {\n",
              "        vertical-align: middle;\n",
              "    }\n",
              "\n",
              "    .dataframe tbody tr th {\n",
              "        vertical-align: top;\n",
              "    }\n",
              "\n",
              "    .dataframe thead th {\n",
              "        text-align: right;\n",
              "    }\n",
              "</style>\n",
              "<table border=\"1\" class=\"dataframe\">\n",
              "  <thead>\n",
              "    <tr style=\"text-align: right;\">\n",
              "      <th></th>\n",
              "      <th>mpg</th>\n",
              "      <th>cylinders</th>\n",
              "      <th>displacement</th>\n",
              "      <th>horsepower</th>\n",
              "      <th>weight</th>\n",
              "      <th>acceleration</th>\n",
              "      <th>model_year</th>\n",
              "      <th>origin</th>\n",
              "    </tr>\n",
              "    <tr>\n",
              "      <th>car name</th>\n",
              "      <th></th>\n",
              "      <th></th>\n",
              "      <th></th>\n",
              "      <th></th>\n",
              "      <th></th>\n",
              "      <th></th>\n",
              "      <th></th>\n",
              "      <th></th>\n",
              "    </tr>\n",
              "  </thead>\n",
              "  <tbody>\n",
              "    <tr>\n",
              "      <th>chrysler lebaron salon</th>\n",
              "      <td>17.6</td>\n",
              "      <td>6</td>\n",
              "      <td>225.0</td>\n",
              "      <td>85.0</td>\n",
              "      <td>3465</td>\n",
              "      <td>16.6</td>\n",
              "      <td>181</td>\n",
              "      <td>1</td>\n",
              "    </tr>\n",
              "    <tr>\n",
              "      <th>ford mustang gl</th>\n",
              "      <td>27.0</td>\n",
              "      <td>4</td>\n",
              "      <td>140.0</td>\n",
              "      <td>86.0</td>\n",
              "      <td>2790</td>\n",
              "      <td>15.6</td>\n",
              "      <td>182</td>\n",
              "      <td>1</td>\n",
              "    </tr>\n",
              "  </tbody>\n",
              "</table>\n",
              "</div>"
            ],
            "text/plain": [
              "                         mpg  cylinders  displacement  horsepower  weight  \\\n",
              "car name                                                                    \n",
              "chrysler lebaron salon  17.6          6         225.0        85.0    3465   \n",
              "ford mustang gl         27.0          4         140.0        86.0    2790   \n",
              "\n",
              "                        acceleration  model_year  origin  \n",
              "car name                                                  \n",
              "chrysler lebaron salon          16.6         181       1  \n",
              "ford mustang gl                 15.6         182       1  "
            ]
          },
          "metadata": {
            "tags": []
          },
          "execution_count": 40
        }
      ]
    },
    {
      "cell_type": "code",
      "metadata": {
        "id": "kab1BE2i9qp6",
        "colab_type": "code",
        "colab": {
          "base_uri": "https://localhost:8080/",
          "height": 409
        },
        "outputId": "a673a8cd-bdb4-4fe3-e683-ef13d89308ea"
      },
      "source": [
        "indexNames = data[(data['model_year'] == 181) | (data['model_year'] == 182)].index\n",
        "# print(indexNames)\n",
        "data.drop(indexNames , inplace=True)\n",
        "sns.countplot(data['model_year'],label=\"Count\")"
      ],
      "execution_count": 41,
      "outputs": [
        {
          "output_type": "execute_result",
          "data": {
            "text/plain": [
              "<matplotlib.axes._subplots.AxesSubplot at 0x7f6f58e36b00>"
            ]
          },
          "metadata": {
            "tags": []
          },
          "execution_count": 41
        },
        {
          "output_type": "display_data",
          "data": {
            "image/png": "[encoded data removed]",
            "text/plain": [
              "<Figure size 432x432 with 1 Axes>"
            ]
          },
          "metadata": {
            "tags": []
          }
        }
      ]
    },
    {
      "cell_type": "code",
      "metadata": {
        "id": "d8eH53x6JOpI",
        "colab_type": "code",
        "colab": {
          "base_uri": "https://localhost:8080/",
          "height": 381
        },
        "outputId": "848c3511-0412-4199-866a-ded8d9eaab4a"
      },
      "source": [
        "sns.boxplot(y=data[\"model_year\"])"
      ],
      "execution_count": 42,
      "outputs": [
        {
          "output_type": "execute_result",
          "data": {
            "text/plain": [
              "<matplotlib.axes._subplots.AxesSubplot at 0x7f6f58d84438>"
            ]
          },
          "metadata": {
            "tags": []
          },
          "execution_count": 42
        },
        {
          "output_type": "display_data",
          "data": {
            "image/png": "[encoded data removed]",
            "text/plain": [
              "<Figure size 432x432 with 1 Axes>"
            ]
          },
          "metadata": {
            "tags": []
          }
        }
      ]
    },
    {
      "cell_type": "markdown",
      "metadata": {
        "id": "CiLVaYanPWaT",
        "colab_type": "text"
      },
      "source": [
        "**Univariate Analysis** - Catogorical data - *origin*"
      ]
    },
    {
      "cell_type": "code",
      "metadata": {
        "id": "K3I86bBC9j7n",
        "colab_type": "code",
        "colab": {
          "base_uri": "https://localhost:8080/",
          "height": 493
        },
        "outputId": "c17e42bf-8dd8-45ef-e48f-a511de1be264"
      },
      "source": [
        "print(data.groupby('origin').size())\n",
        "sns.countplot(data['origin'],label=\"Count\")"
      ],
      "execution_count": 43,
      "outputs": [
        {
          "output_type": "stream",
          "text": [
            "origin\n",
            "1    243\n",
            "2     69\n",
            "3     79\n",
            "dtype: int64\n"
          ],
          "name": "stdout"
        },
        {
          "output_type": "execute_result",
          "data": {
            "text/plain": [
              "<matplotlib.axes._subplots.AxesSubplot at 0x7f6f58d0f5c0>"
            ]
          },
          "metadata": {
            "tags": []
          },
          "execution_count": 43
        },
        {
          "output_type": "display_data",
          "data": {
            "image/png": "[encoded data removed]",
            "text/plain": [
              "<Figure size 432x432 with 1 Axes>"
            ]
          },
          "metadata": {
            "tags": []
          }
        }
      ]
    },
    {
      "cell_type": "code",
      "metadata": {
        "id": "HZta4LD9Bo16",
        "colab_type": "code",
        "colab": {
          "base_uri": "https://localhost:8080/",
          "height": 34
        },
        "outputId": "9487842f-695d-405b-b043-1e60c45240f4"
      },
      "source": [
        "data['origin'] = data['origin'].replace({1: 'country_1', 2: 'country_2', 3: 'country_3'})\n",
        "data.origin.unique()"
      ],
      "execution_count": 44,
      "outputs": [
        {
          "output_type": "execute_result",
          "data": {
            "text/plain": [
              "array(['country_1', 'country_3', 'country_2'], dtype=object)"
            ]
          },
          "metadata": {
            "tags": []
          },
          "execution_count": 44
        }
      ]
    },
    {
      "cell_type": "code",
      "metadata": {
        "id": "dcnE9nxyDDP3",
        "colab_type": "code",
        "colab": {
          "base_uri": "https://localhost:8080/",
          "height": 225
        },
        "outputId": "fe09ffa4-0c84-493b-beb1-81e5f675b574"
      },
      "source": [
        "data = pd.get_dummies(data, columns=['origin'])\n",
        "data.head()"
      ],
      "execution_count": 45,
      "outputs": [
        {
          "output_type": "execute_result",
          "data": {
            "text/html": [
              "<div>\n",
              "<style scoped>\n",
              "    .dataframe tbody tr th:only-of-type {\n",
              "        vertical-align: middle;\n",
              "    }\n",
              "\n",
              "    .dataframe tbody tr th {\n",
              "        vertical-align: top;\n",
              "    }\n",
              "\n",
              "    .dataframe thead th {\n",
              "        text-align: right;\n",
              "    }\n",
              "</style>\n",
              "<table border=\"1\" class=\"dataframe\">\n",
              "  <thead>\n",
              "    <tr style=\"text-align: right;\">\n",
              "      <th></th>\n",
              "      <th>mpg</th>\n",
              "      <th>cylinders</th>\n",
              "      <th>displacement</th>\n",
              "      <th>horsepower</th>\n",
              "      <th>weight</th>\n",
              "      <th>acceleration</th>\n",
              "      <th>model_year</th>\n",
              "      <th>origin_country_1</th>\n",
              "      <th>origin_country_2</th>\n",
              "      <th>origin_country_3</th>\n",
              "    </tr>\n",
              "    <tr>\n",
              "      <th>car name</th>\n",
              "      <th></th>\n",
              "      <th></th>\n",
              "      <th></th>\n",
              "      <th></th>\n",
              "      <th></th>\n",
              "      <th></th>\n",
              "      <th></th>\n",
              "      <th></th>\n",
              "      <th></th>\n",
              "      <th></th>\n",
              "    </tr>\n",
              "  </thead>\n",
              "  <tbody>\n",
              "    <tr>\n",
              "      <th>chevrolet chevelle malibu</th>\n",
              "      <td>18.0</td>\n",
              "      <td>8</td>\n",
              "      <td>307.0</td>\n",
              "      <td>130.0</td>\n",
              "      <td>3504</td>\n",
              "      <td>12.0</td>\n",
              "      <td>70</td>\n",
              "      <td>1</td>\n",
              "      <td>0</td>\n",
              "      <td>0</td>\n",
              "    </tr>\n",
              "    <tr>\n",
              "      <th>buick skylark 320</th>\n",
              "      <td>15.0</td>\n",
              "      <td>8</td>\n",
              "      <td>350.0</td>\n",
              "      <td>165.0</td>\n",
              "      <td>3693</td>\n",
              "      <td>11.5</td>\n",
              "      <td>70</td>\n",
              "      <td>1</td>\n",
              "      <td>0</td>\n",
              "      <td>0</td>\n",
              "    </tr>\n",
              "    <tr>\n",
              "      <th>plymouth satellite</th>\n",
              "      <td>18.0</td>\n",
              "      <td>8</td>\n",
              "      <td>318.0</td>\n",
              "      <td>150.0</td>\n",
              "      <td>3436</td>\n",
              "      <td>11.0</td>\n",
              "      <td>70</td>\n",
              "      <td>1</td>\n",
              "      <td>0</td>\n",
              "      <td>0</td>\n",
              "    </tr>\n",
              "    <tr>\n",
              "      <th>amc rebel sst</th>\n",
              "      <td>16.0</td>\n",
              "      <td>8</td>\n",
              "      <td>304.0</td>\n",
              "      <td>150.0</td>\n",
              "      <td>3433</td>\n",
              "      <td>NaN</td>\n",
              "      <td>70</td>\n",
              "      <td>1</td>\n",
              "      <td>0</td>\n",
              "      <td>0</td>\n",
              "    </tr>\n",
              "    <tr>\n",
              "      <th>ford torino</th>\n",
              "      <td>17.0</td>\n",
              "      <td>8</td>\n",
              "      <td>302.0</td>\n",
              "      <td>140.0</td>\n",
              "      <td>3449</td>\n",
              "      <td>10.5</td>\n",
              "      <td>70</td>\n",
              "      <td>1</td>\n",
              "      <td>0</td>\n",
              "      <td>0</td>\n",
              "    </tr>\n",
              "  </tbody>\n",
              "</table>\n",
              "</div>"
            ],
            "text/plain": [
              "                            mpg  cylinders  displacement  horsepower  weight  \\\n",
              "car name                                                                       \n",
              "chevrolet chevelle malibu  18.0          8         307.0       130.0    3504   \n",
              "buick skylark 320          15.0          8         350.0       165.0    3693   \n",
              "plymouth satellite         18.0          8         318.0       150.0    3436   \n",
              "amc rebel sst              16.0          8         304.0       150.0    3433   \n",
              "ford torino                17.0          8         302.0       140.0    3449   \n",
              "\n",
              "                           acceleration  model_year  origin_country_1  \\\n",
              "car name                                                                \n",
              "chevrolet chevelle malibu          12.0          70                 1   \n",
              "buick skylark 320                  11.5          70                 1   \n",
              "plymouth satellite                 11.0          70                 1   \n",
              "amc rebel sst                       NaN          70                 1   \n",
              "ford torino                        10.5          70                 1   \n",
              "\n",
              "                           origin_country_2  origin_country_3  \n",
              "car name                                                       \n",
              "chevrolet chevelle malibu                 0                 0  \n",
              "buick skylark 320                         0                 0  \n",
              "plymouth satellite                        0                 0  \n",
              "amc rebel sst                             0                 0  \n",
              "ford torino                               0                 0  "
            ]
          },
          "metadata": {
            "tags": []
          },
          "execution_count": 45
        }
      ]
    },
    {
      "cell_type": "markdown",
      "metadata": {
        "id": "3go6aSczPHPg",
        "colab_type": "text"
      },
      "source": [
        "**Univariate Analysis** - Continuos data"
      ]
    },
    {
      "cell_type": "code",
      "metadata": {
        "id": "cIDW4PF58wCG",
        "colab_type": "code",
        "colab": {
          "base_uri": "https://localhost:8080/",
          "height": 284
        },
        "outputId": "d6e1ab55-d2d4-4cfc-d170-dbda4f0624f5"
      },
      "source": [
        "data.describe()"
      ],
      "execution_count": 46,
      "outputs": [
        {
          "output_type": "execute_result",
          "data": {
            "text/html": [
              "<div>\n",
              "<style scoped>\n",
              "    .dataframe tbody tr th:only-of-type {\n",
              "        vertical-align: middle;\n",
              "    }\n",
              "\n",
              "    .dataframe tbody tr th {\n",
              "        vertical-align: top;\n",
              "    }\n",
              "\n",
              "    .dataframe thead th {\n",
              "        text-align: right;\n",
              "    }\n",
              "</style>\n",
              "<table border=\"1\" class=\"dataframe\">\n",
              "  <thead>\n",
              "    <tr style=\"text-align: right;\">\n",
              "      <th></th>\n",
              "      <th>mpg</th>\n",
              "      <th>cylinders</th>\n",
              "      <th>displacement</th>\n",
              "      <th>horsepower</th>\n",
              "      <th>weight</th>\n",
              "      <th>acceleration</th>\n",
              "      <th>model_year</th>\n",
              "      <th>origin_country_1</th>\n",
              "      <th>origin_country_2</th>\n",
              "      <th>origin_country_3</th>\n",
              "    </tr>\n",
              "  </thead>\n",
              "  <tbody>\n",
              "    <tr>\n",
              "      <th>count</th>\n",
              "      <td>391.000000</td>\n",
              "      <td>391.000000</td>\n",
              "      <td>391.000000</td>\n",
              "      <td>385.000000</td>\n",
              "      <td>391.000000</td>\n",
              "      <td>387.000000</td>\n",
              "      <td>391.000000</td>\n",
              "      <td>391.000000</td>\n",
              "      <td>391.000000</td>\n",
              "      <td>391.000000</td>\n",
              "    </tr>\n",
              "    <tr>\n",
              "      <th>mean</th>\n",
              "      <td>23.550384</td>\n",
              "      <td>5.450128</td>\n",
              "      <td>193.190537</td>\n",
              "      <td>104.571429</td>\n",
              "      <td>2970.166240</td>\n",
              "      <td>15.573643</td>\n",
              "      <td>76.033248</td>\n",
              "      <td>0.621483</td>\n",
              "      <td>0.176471</td>\n",
              "      <td>0.202046</td>\n",
              "    </tr>\n",
              "    <tr>\n",
              "      <th>std</th>\n",
              "      <td>7.862824</td>\n",
              "      <td>1.707283</td>\n",
              "      <td>104.567339</td>\n",
              "      <td>38.445249</td>\n",
              "      <td>851.201655</td>\n",
              "      <td>2.752103</td>\n",
              "      <td>3.676874</td>\n",
              "      <td>0.485639</td>\n",
              "      <td>0.381708</td>\n",
              "      <td>0.402041</td>\n",
              "    </tr>\n",
              "    <tr>\n",
              "      <th>min</th>\n",
              "      <td>9.000000</td>\n",
              "      <td>3.000000</td>\n",
              "      <td>68.000000</td>\n",
              "      <td>46.000000</td>\n",
              "      <td>1613.000000</td>\n",
              "      <td>8.000000</td>\n",
              "      <td>70.000000</td>\n",
              "      <td>0.000000</td>\n",
              "      <td>0.000000</td>\n",
              "      <td>0.000000</td>\n",
              "    </tr>\n",
              "    <tr>\n",
              "      <th>25%</th>\n",
              "      <td>17.250000</td>\n",
              "      <td>4.000000</td>\n",
              "      <td>102.500000</td>\n",
              "      <td>75.000000</td>\n",
              "      <td>2221.500000</td>\n",
              "      <td>13.800000</td>\n",
              "      <td>73.000000</td>\n",
              "      <td>0.000000</td>\n",
              "      <td>0.000000</td>\n",
              "      <td>0.000000</td>\n",
              "    </tr>\n",
              "    <tr>\n",
              "      <th>50%</th>\n",
              "      <td>23.000000</td>\n",
              "      <td>4.000000</td>\n",
              "      <td>146.000000</td>\n",
              "      <td>93.000000</td>\n",
              "      <td>2795.000000</td>\n",
              "      <td>15.500000</td>\n",
              "      <td>76.000000</td>\n",
              "      <td>1.000000</td>\n",
              "      <td>0.000000</td>\n",
              "      <td>0.000000</td>\n",
              "    </tr>\n",
              "    <tr>\n",
              "      <th>75%</th>\n",
              "      <td>29.000000</td>\n",
              "      <td>8.000000</td>\n",
              "      <td>264.500000</td>\n",
              "      <td>129.000000</td>\n",
              "      <td>3611.000000</td>\n",
              "      <td>17.250000</td>\n",
              "      <td>79.000000</td>\n",
              "      <td>1.000000</td>\n",
              "      <td>0.000000</td>\n",
              "      <td>0.000000</td>\n",
              "    </tr>\n",
              "    <tr>\n",
              "      <th>max</th>\n",
              "      <td>46.600000</td>\n",
              "      <td>8.000000</td>\n",
              "      <td>455.000000</td>\n",
              "      <td>230.000000</td>\n",
              "      <td>5140.000000</td>\n",
              "      <td>24.800000</td>\n",
              "      <td>82.000000</td>\n",
              "      <td>1.000000</td>\n",
              "      <td>1.000000</td>\n",
              "      <td>1.000000</td>\n",
              "    </tr>\n",
              "  </tbody>\n",
              "</table>\n",
              "</div>"
            ],
            "text/plain": [
              "              mpg   cylinders  displacement  horsepower       weight  \\\n",
              "count  391.000000  391.000000    391.000000  385.000000   391.000000   \n",
              "mean    23.550384    5.450128    193.190537  104.571429  2970.166240   \n",
              "std      7.862824    1.707283    104.567339   38.445249   851.201655   \n",
              "min      9.000000    3.000000     68.000000   46.000000  1613.000000   \n",
              "25%     17.250000    4.000000    102.500000   75.000000  2221.500000   \n",
              "50%     23.000000    4.000000    146.000000   93.000000  2795.000000   \n",
              "75%     29.000000    8.000000    264.500000  129.000000  3611.000000   \n",
              "max     46.600000    8.000000    455.000000  230.000000  5140.000000   \n",
              "\n",
              "       acceleration  model_year  origin_country_1  origin_country_2  \\\n",
              "count    387.000000  391.000000        391.000000        391.000000   \n",
              "mean      15.573643   76.033248          0.621483          0.176471   \n",
              "std        2.752103    3.676874          0.485639          0.381708   \n",
              "min        8.000000   70.000000          0.000000          0.000000   \n",
              "25%       13.800000   73.000000          0.000000          0.000000   \n",
              "50%       15.500000   76.000000          1.000000          0.000000   \n",
              "75%       17.250000   79.000000          1.000000          0.000000   \n",
              "max       24.800000   82.000000          1.000000          1.000000   \n",
              "\n",
              "       origin_country_3  \n",
              "count        391.000000  \n",
              "mean           0.202046  \n",
              "std            0.402041  \n",
              "min            0.000000  \n",
              "25%            0.000000  \n",
              "50%            0.000000  \n",
              "75%            0.000000  \n",
              "max            1.000000  "
            ]
          },
          "metadata": {
            "tags": []
          },
          "execution_count": 46
        }
      ]
    },
    {
      "cell_type": "code",
      "metadata": {
        "id": "W8PVG1wb8e_c",
        "colab_type": "code",
        "colab": {
          "base_uri": "https://localhost:8080/",
          "height": 202
        },
        "outputId": "ea5e44f1-495f-4823-e61b-186a7b26917f"
      },
      "source": [
        "print(data.isnull().sum())"
      ],
      "execution_count": 47,
      "outputs": [
        {
          "output_type": "stream",
          "text": [
            "mpg                 0\n",
            "cylinders           0\n",
            "displacement        0\n",
            "horsepower          6\n",
            "weight              0\n",
            "acceleration        4\n",
            "model_year          0\n",
            "origin_country_1    0\n",
            "origin_country_2    0\n",
            "origin_country_3    0\n",
            "dtype: int64\n"
          ],
          "name": "stdout"
        }
      ]
    },
    {
      "cell_type": "code",
      "metadata": {
        "id": "FCYzQbpMYaS-",
        "colab_type": "code",
        "colab": {
          "base_uri": "https://localhost:8080/",
          "height": 373
        },
        "outputId": "d2a0718d-baa2-48ff-edbb-c03ff36877da"
      },
      "source": [
        "data[data.horsepower.isna() | data.acceleration.isna()]"
      ],
      "execution_count": 48,
      "outputs": [
        {
          "output_type": "execute_result",
          "data": {
            "text/html": [
              "<div>\n",
              "<style scoped>\n",
              "    .dataframe tbody tr th:only-of-type {\n",
              "        vertical-align: middle;\n",
              "    }\n",
              "\n",
              "    .dataframe tbody tr th {\n",
              "        vertical-align: top;\n",
              "    }\n",
              "\n",
              "    .dataframe thead th {\n",
              "        text-align: right;\n",
              "    }\n",
              "</style>\n",
              "<table border=\"1\" class=\"dataframe\">\n",
              "  <thead>\n",
              "    <tr style=\"text-align: right;\">\n",
              "      <th></th>\n",
              "      <th>mpg</th>\n",
              "      <th>cylinders</th>\n",
              "      <th>displacement</th>\n",
              "      <th>horsepower</th>\n",
              "      <th>weight</th>\n",
              "      <th>acceleration</th>\n",
              "      <th>model_year</th>\n",
              "      <th>origin_country_1</th>\n",
              "      <th>origin_country_2</th>\n",
              "      <th>origin_country_3</th>\n",
              "    </tr>\n",
              "    <tr>\n",
              "      <th>car name</th>\n",
              "      <th></th>\n",
              "      <th></th>\n",
              "      <th></th>\n",
              "      <th></th>\n",
              "      <th></th>\n",
              "      <th></th>\n",
              "      <th></th>\n",
              "      <th></th>\n",
              "      <th></th>\n",
              "      <th></th>\n",
              "    </tr>\n",
              "  </thead>\n",
              "  <tbody>\n",
              "    <tr>\n",
              "      <th>amc rebel sst</th>\n",
              "      <td>16.0</td>\n",
              "      <td>8</td>\n",
              "      <td>304.0</td>\n",
              "      <td>150.0</td>\n",
              "      <td>3433</td>\n",
              "      <td>NaN</td>\n",
              "      <td>70</td>\n",
              "      <td>1</td>\n",
              "      <td>0</td>\n",
              "      <td>0</td>\n",
              "    </tr>\n",
              "    <tr>\n",
              "      <th>amc gremlin</th>\n",
              "      <td>21.0</td>\n",
              "      <td>6</td>\n",
              "      <td>199.0</td>\n",
              "      <td>90.0</td>\n",
              "      <td>2648</td>\n",
              "      <td>NaN</td>\n",
              "      <td>70</td>\n",
              "      <td>1</td>\n",
              "      <td>0</td>\n",
              "      <td>0</td>\n",
              "    </tr>\n",
              "    <tr>\n",
              "      <th>ford pinto</th>\n",
              "      <td>25.0</td>\n",
              "      <td>4</td>\n",
              "      <td>98.0</td>\n",
              "      <td>NaN</td>\n",
              "      <td>2046</td>\n",
              "      <td>19.0</td>\n",
              "      <td>71</td>\n",
              "      <td>1</td>\n",
              "      <td>0</td>\n",
              "      <td>0</td>\n",
              "    </tr>\n",
              "    <tr>\n",
              "      <th>amc hornet</th>\n",
              "      <td>18.0</td>\n",
              "      <td>6</td>\n",
              "      <td>232.0</td>\n",
              "      <td>100.0</td>\n",
              "      <td>2945</td>\n",
              "      <td>NaN</td>\n",
              "      <td>73</td>\n",
              "      <td>1</td>\n",
              "      <td>0</td>\n",
              "      <td>0</td>\n",
              "    </tr>\n",
              "    <tr>\n",
              "      <th>ford maverick</th>\n",
              "      <td>21.0</td>\n",
              "      <td>6</td>\n",
              "      <td>200.0</td>\n",
              "      <td>NaN</td>\n",
              "      <td>2875</td>\n",
              "      <td>17.0</td>\n",
              "      <td>74</td>\n",
              "      <td>1</td>\n",
              "      <td>0</td>\n",
              "      <td>0</td>\n",
              "    </tr>\n",
              "    <tr>\n",
              "      <th>honda civic cvcc</th>\n",
              "      <td>36.1</td>\n",
              "      <td>4</td>\n",
              "      <td>91.0</td>\n",
              "      <td>60.0</td>\n",
              "      <td>1800</td>\n",
              "      <td>NaN</td>\n",
              "      <td>78</td>\n",
              "      <td>0</td>\n",
              "      <td>0</td>\n",
              "      <td>1</td>\n",
              "    </tr>\n",
              "    <tr>\n",
              "      <th>renault lecar deluxe</th>\n",
              "      <td>40.9</td>\n",
              "      <td>4</td>\n",
              "      <td>85.0</td>\n",
              "      <td>NaN</td>\n",
              "      <td>1835</td>\n",
              "      <td>17.3</td>\n",
              "      <td>80</td>\n",
              "      <td>0</td>\n",
              "      <td>1</td>\n",
              "      <td>0</td>\n",
              "    </tr>\n",
              "    <tr>\n",
              "      <th>ford mustang cobra</th>\n",
              "      <td>23.6</td>\n",
              "      <td>4</td>\n",
              "      <td>140.0</td>\n",
              "      <td>NaN</td>\n",
              "      <td>2905</td>\n",
              "      <td>14.3</td>\n",
              "      <td>80</td>\n",
              "      <td>1</td>\n",
              "      <td>0</td>\n",
              "      <td>0</td>\n",
              "    </tr>\n",
              "    <tr>\n",
              "      <th>renault 18i</th>\n",
              "      <td>34.5</td>\n",
              "      <td>4</td>\n",
              "      <td>100.0</td>\n",
              "      <td>NaN</td>\n",
              "      <td>2320</td>\n",
              "      <td>15.8</td>\n",
              "      <td>81</td>\n",
              "      <td>0</td>\n",
              "      <td>1</td>\n",
              "      <td>0</td>\n",
              "    </tr>\n",
              "    <tr>\n",
              "      <th>amc concord dl</th>\n",
              "      <td>23.0</td>\n",
              "      <td>4</td>\n",
              "      <td>151.0</td>\n",
              "      <td>NaN</td>\n",
              "      <td>3035</td>\n",
              "      <td>20.5</td>\n",
              "      <td>82</td>\n",
              "      <td>1</td>\n",
              "      <td>0</td>\n",
              "      <td>0</td>\n",
              "    </tr>\n",
              "  </tbody>\n",
              "</table>\n",
              "</div>"
            ],
            "text/plain": [
              "                       mpg  cylinders  displacement  horsepower  weight  \\\n",
              "car name                                                                  \n",
              "amc rebel sst         16.0          8         304.0       150.0    3433   \n",
              "amc gremlin           21.0          6         199.0        90.0    2648   \n",
              "ford pinto            25.0          4          98.0         NaN    2046   \n",
              "amc hornet            18.0          6         232.0       100.0    2945   \n",
              "ford maverick         21.0          6         200.0         NaN    2875   \n",
              "honda civic cvcc      36.1          4          91.0        60.0    1800   \n",
              "renault lecar deluxe  40.9          4          85.0         NaN    1835   \n",
              "ford mustang cobra    23.6          4         140.0         NaN    2905   \n",
              "renault 18i           34.5          4         100.0         NaN    2320   \n",
              "amc concord dl        23.0          4         151.0         NaN    3035   \n",
              "\n",
              "                      acceleration  model_year  origin_country_1  \\\n",
              "car name                                                           \n",
              "amc rebel sst                  NaN          70                 1   \n",
              "amc gremlin                    NaN          70                 1   \n",
              "ford pinto                    19.0          71                 1   \n",
              "amc hornet                     NaN          73                 1   \n",
              "ford maverick                 17.0          74                 1   \n",
              "honda civic cvcc               NaN          78                 0   \n",
              "renault lecar deluxe          17.3          80                 0   \n",
              "ford mustang cobra            14.3          80                 1   \n",
              "renault 18i                   15.8          81                 0   \n",
              "amc concord dl                20.5          82                 1   \n",
              "\n",
              "                      origin_country_2  origin_country_3  \n",
              "car name                                                  \n",
              "amc rebel sst                        0                 0  \n",
              "amc gremlin                          0                 0  \n",
              "ford pinto                           0                 0  \n",
              "amc hornet                           0                 0  \n",
              "ford maverick                        0                 0  \n",
              "honda civic cvcc                     0                 1  \n",
              "renault lecar deluxe                 1                 0  \n",
              "ford mustang cobra                   0                 0  \n",
              "renault 18i                          1                 0  \n",
              "amc concord dl                       0                 0  "
            ]
          },
          "metadata": {
            "tags": []
          },
          "execution_count": 48
        }
      ]
    },
    {
      "cell_type": "code",
      "metadata": {
        "id": "a-tejSeGsg6t",
        "colab_type": "code",
        "colab": {
          "base_uri": "https://localhost:8080/",
          "height": 94
        },
        "outputId": "f4c74995-e1fa-4a81-a553-c425e39c7cf8"
      },
      "source": [
        "mean_horsepower = np.mean(data.horsepower)\n",
        "print('Avg of the horsepower ' + str(mean_horsepower))\n",
        "data.horsepower = data.horsepower.fillna(mean_horsepower)\n",
        "data[data.horsepower.isna()]"
      ],
      "execution_count": 49,
      "outputs": [
        {
          "output_type": "stream",
          "text": [
            "Avg of the horsepower 104.57142857142857\n"
          ],
          "name": "stdout"
        },
        {
          "output_type": "execute_result",
          "data": {
            "text/html": [
              "<div>\n",
              "<style scoped>\n",
              "    .dataframe tbody tr th:only-of-type {\n",
              "        vertical-align: middle;\n",
              "    }\n",
              "\n",
              "    .dataframe tbody tr th {\n",
              "        vertical-align: top;\n",
              "    }\n",
              "\n",
              "    .dataframe thead th {\n",
              "        text-align: right;\n",
              "    }\n",
              "</style>\n",
              "<table border=\"1\" class=\"dataframe\">\n",
              "  <thead>\n",
              "    <tr style=\"text-align: right;\">\n",
              "      <th></th>\n",
              "      <th>mpg</th>\n",
              "      <th>cylinders</th>\n",
              "      <th>displacement</th>\n",
              "      <th>horsepower</th>\n",
              "      <th>weight</th>\n",
              "      <th>acceleration</th>\n",
              "      <th>model_year</th>\n",
              "      <th>origin_country_1</th>\n",
              "      <th>origin_country_2</th>\n",
              "      <th>origin_country_3</th>\n",
              "    </tr>\n",
              "    <tr>\n",
              "      <th>car name</th>\n",
              "      <th></th>\n",
              "      <th></th>\n",
              "      <th></th>\n",
              "      <th></th>\n",
              "      <th></th>\n",
              "      <th></th>\n",
              "      <th></th>\n",
              "      <th></th>\n",
              "      <th></th>\n",
              "      <th></th>\n",
              "    </tr>\n",
              "  </thead>\n",
              "  <tbody>\n",
              "  </tbody>\n",
              "</table>\n",
              "</div>"
            ],
            "text/plain": [
              "Empty DataFrame\n",
              "Columns: [mpg, cylinders, displacement, horsepower, weight, acceleration, model_year, origin_country_1, origin_country_2, origin_country_3]\n",
              "Index: []"
            ]
          },
          "metadata": {
            "tags": []
          },
          "execution_count": 49
        }
      ]
    },
    {
      "cell_type": "code",
      "metadata": {
        "id": "d4rE1sUUdyGs",
        "colab_type": "code",
        "colab": {
          "base_uri": "https://localhost:8080/",
          "height": 94
        },
        "outputId": "fc70224a-5526-4ca4-9745-987133b84337"
      },
      "source": [
        "mean_acceleration = np.mean(data.acceleration)\n",
        "print('Avg of the acceleration ' + str(mean_acceleration))\n",
        "data.acceleration = data.acceleration.fillna(mean_acceleration)\n",
        "data[data.acceleration.isna()]"
      ],
      "execution_count": 50,
      "outputs": [
        {
          "output_type": "stream",
          "text": [
            "Avg of the acceleration 15.573643410852696\n"
          ],
          "name": "stdout"
        },
        {
          "output_type": "execute_result",
          "data": {
            "text/html": [
              "<div>\n",
              "<style scoped>\n",
              "    .dataframe tbody tr th:only-of-type {\n",
              "        vertical-align: middle;\n",
              "    }\n",
              "\n",
              "    .dataframe tbody tr th {\n",
              "        vertical-align: top;\n",
              "    }\n",
              "\n",
              "    .dataframe thead th {\n",
              "        text-align: right;\n",
              "    }\n",
              "</style>\n",
              "<table border=\"1\" class=\"dataframe\">\n",
              "  <thead>\n",
              "    <tr style=\"text-align: right;\">\n",
              "      <th></th>\n",
              "      <th>mpg</th>\n",
              "      <th>cylinders</th>\n",
              "      <th>displacement</th>\n",
              "      <th>horsepower</th>\n",
              "      <th>weight</th>\n",
              "      <th>acceleration</th>\n",
              "      <th>model_year</th>\n",
              "      <th>origin_country_1</th>\n",
              "      <th>origin_country_2</th>\n",
              "      <th>origin_country_3</th>\n",
              "    </tr>\n",
              "    <tr>\n",
              "      <th>car name</th>\n",
              "      <th></th>\n",
              "      <th></th>\n",
              "      <th></th>\n",
              "      <th></th>\n",
              "      <th></th>\n",
              "      <th></th>\n",
              "      <th></th>\n",
              "      <th></th>\n",
              "      <th></th>\n",
              "      <th></th>\n",
              "    </tr>\n",
              "  </thead>\n",
              "  <tbody>\n",
              "  </tbody>\n",
              "</table>\n",
              "</div>"
            ],
            "text/plain": [
              "Empty DataFrame\n",
              "Columns: [mpg, cylinders, displacement, horsepower, weight, acceleration, model_year, origin_country_1, origin_country_2, origin_country_3]\n",
              "Index: []"
            ]
          },
          "metadata": {
            "tags": []
          },
          "execution_count": 50
        }
      ]
    },
    {
      "cell_type": "code",
      "metadata": {
        "id": "_ZKuEWcXhRYo",
        "colab_type": "code",
        "colab": {
          "base_uri": "https://localhost:8080/",
          "height": 284
        },
        "outputId": "5fa03b91-b075-4afa-fddc-7d7dc70e50e2"
      },
      "source": [
        "data.describe()"
      ],
      "execution_count": 51,
      "outputs": [
        {
          "output_type": "execute_result",
          "data": {
            "text/html": [
              "<div>\n",
              "<style scoped>\n",
              "    .dataframe tbody tr th:only-of-type {\n",
              "        vertical-align: middle;\n",
              "    }\n",
              "\n",
              "    .dataframe tbody tr th {\n",
              "        vertical-align: top;\n",
              "    }\n",
              "\n",
              "    .dataframe thead th {\n",
              "        text-align: right;\n",
              "    }\n",
              "</style>\n",
              "<table border=\"1\" class=\"dataframe\">\n",
              "  <thead>\n",
              "    <tr style=\"text-align: right;\">\n",
              "      <th></th>\n",
              "      <th>mpg</th>\n",
              "      <th>cylinders</th>\n",
              "      <th>displacement</th>\n",
              "      <th>horsepower</th>\n",
              "      <th>weight</th>\n",
              "      <th>acceleration</th>\n",
              "      <th>model_year</th>\n",
              "      <th>origin_country_1</th>\n",
              "      <th>origin_country_2</th>\n",
              "      <th>origin_country_3</th>\n",
              "    </tr>\n",
              "  </thead>\n",
              "  <tbody>\n",
              "    <tr>\n",
              "      <th>count</th>\n",
              "      <td>391.000000</td>\n",
              "      <td>391.000000</td>\n",
              "      <td>391.000000</td>\n",
              "      <td>391.000000</td>\n",
              "      <td>391.000000</td>\n",
              "      <td>391.000000</td>\n",
              "      <td>391.000000</td>\n",
              "      <td>391.000000</td>\n",
              "      <td>391.000000</td>\n",
              "      <td>391.000000</td>\n",
              "    </tr>\n",
              "    <tr>\n",
              "      <th>mean</th>\n",
              "      <td>23.550384</td>\n",
              "      <td>5.450128</td>\n",
              "      <td>193.190537</td>\n",
              "      <td>104.571429</td>\n",
              "      <td>2970.166240</td>\n",
              "      <td>15.573643</td>\n",
              "      <td>76.033248</td>\n",
              "      <td>0.621483</td>\n",
              "      <td>0.176471</td>\n",
              "      <td>0.202046</td>\n",
              "    </tr>\n",
              "    <tr>\n",
              "      <th>std</th>\n",
              "      <td>7.862824</td>\n",
              "      <td>1.707283</td>\n",
              "      <td>104.567339</td>\n",
              "      <td>38.148370</td>\n",
              "      <td>851.201655</td>\n",
              "      <td>2.737953</td>\n",
              "      <td>3.676874</td>\n",
              "      <td>0.485639</td>\n",
              "      <td>0.381708</td>\n",
              "      <td>0.402041</td>\n",
              "    </tr>\n",
              "    <tr>\n",
              "      <th>min</th>\n",
              "      <td>9.000000</td>\n",
              "      <td>3.000000</td>\n",
              "      <td>68.000000</td>\n",
              "      <td>46.000000</td>\n",
              "      <td>1613.000000</td>\n",
              "      <td>8.000000</td>\n",
              "      <td>70.000000</td>\n",
              "      <td>0.000000</td>\n",
              "      <td>0.000000</td>\n",
              "      <td>0.000000</td>\n",
              "    </tr>\n",
              "    <tr>\n",
              "      <th>25%</th>\n",
              "      <td>17.250000</td>\n",
              "      <td>4.000000</td>\n",
              "      <td>102.500000</td>\n",
              "      <td>75.500000</td>\n",
              "      <td>2221.500000</td>\n",
              "      <td>13.850000</td>\n",
              "      <td>73.000000</td>\n",
              "      <td>0.000000</td>\n",
              "      <td>0.000000</td>\n",
              "      <td>0.000000</td>\n",
              "    </tr>\n",
              "    <tr>\n",
              "      <th>50%</th>\n",
              "      <td>23.000000</td>\n",
              "      <td>4.000000</td>\n",
              "      <td>146.000000</td>\n",
              "      <td>95.000000</td>\n",
              "      <td>2795.000000</td>\n",
              "      <td>15.500000</td>\n",
              "      <td>76.000000</td>\n",
              "      <td>1.000000</td>\n",
              "      <td>0.000000</td>\n",
              "      <td>0.000000</td>\n",
              "    </tr>\n",
              "    <tr>\n",
              "      <th>75%</th>\n",
              "      <td>29.000000</td>\n",
              "      <td>8.000000</td>\n",
              "      <td>264.500000</td>\n",
              "      <td>125.000000</td>\n",
              "      <td>3611.000000</td>\n",
              "      <td>17.200000</td>\n",
              "      <td>79.000000</td>\n",
              "      <td>1.000000</td>\n",
              "      <td>0.000000</td>\n",
              "      <td>0.000000</td>\n",
              "    </tr>\n",
              "    <tr>\n",
              "      <th>max</th>\n",
              "      <td>46.600000</td>\n",
              "      <td>8.000000</td>\n",
              "      <td>455.000000</td>\n",
              "      <td>230.000000</td>\n",
              "      <td>5140.000000</td>\n",
              "      <td>24.800000</td>\n",
              "      <td>82.000000</td>\n",
              "      <td>1.000000</td>\n",
              "      <td>1.000000</td>\n",
              "      <td>1.000000</td>\n",
              "    </tr>\n",
              "  </tbody>\n",
              "</table>\n",
              "</div>"
            ],
            "text/plain": [
              "              mpg   cylinders  displacement  horsepower       weight  \\\n",
              "count  391.000000  391.000000    391.000000  391.000000   391.000000   \n",
              "mean    23.550384    5.450128    193.190537  104.571429  2970.166240   \n",
              "std      7.862824    1.707283    104.567339   38.148370   851.201655   \n",
              "min      9.000000    3.000000     68.000000   46.000000  1613.000000   \n",
              "25%     17.250000    4.000000    102.500000   75.500000  2221.500000   \n",
              "50%     23.000000    4.000000    146.000000   95.000000  2795.000000   \n",
              "75%     29.000000    8.000000    264.500000  125.000000  3611.000000   \n",
              "max     46.600000    8.000000    455.000000  230.000000  5140.000000   \n",
              "\n",
              "       acceleration  model_year  origin_country_1  origin_country_2  \\\n",
              "count    391.000000  391.000000        391.000000        391.000000   \n",
              "mean      15.573643   76.033248          0.621483          0.176471   \n",
              "std        2.737953    3.676874          0.485639          0.381708   \n",
              "min        8.000000   70.000000          0.000000          0.000000   \n",
              "25%       13.850000   73.000000          0.000000          0.000000   \n",
              "50%       15.500000   76.000000          1.000000          0.000000   \n",
              "75%       17.200000   79.000000          1.000000          0.000000   \n",
              "max       24.800000   82.000000          1.000000          1.000000   \n",
              "\n",
              "       origin_country_3  \n",
              "count        391.000000  \n",
              "mean           0.202046  \n",
              "std            0.402041  \n",
              "min            0.000000  \n",
              "25%            0.000000  \n",
              "50%            0.000000  \n",
              "75%            0.000000  \n",
              "max            1.000000  "
            ]
          },
          "metadata": {
            "tags": []
          },
          "execution_count": 51
        }
      ]
    },
    {
      "cell_type": "code",
      "metadata": {
        "id": "YhUcI8JaQqNO",
        "colab_type": "code",
        "colab": {}
      },
      "source": [
        "def find_outlier(ds, col):\n",
        "  q1=ds[col].quantile(0.25)\n",
        "  q3=ds[col].quantile(0.75)\n",
        "  #quartile_1, quartile_3 = np.percentile(ys, [25, 75])\n",
        "  IQR=q3-q1\n",
        "  low_val=q1-1.5*IQR\n",
        "  high_val=q3+1.5*IQR\n",
        "  print('1st Quartile ' + str(round(q1,2)))\n",
        "  print('3rd Quartile ' + str(round(q3,2)))\n",
        "  print('IQR ' + str(round(IQR,2)))\n",
        "  print('Lower bound ' + str(round(low_val,2)))\n",
        "  print('Upper bound ' + str(round(high_val,2)))\n",
        "  ds=ds.loc[(ds[col]<low_val) | (ds[col]>high_val)]\n",
        "  print('Number of outliers ' + str(len(ds.index)))\n",
        "  return ds"
      ],
      "execution_count": 0,
      "outputs": []
    },
    {
      "cell_type": "code",
      "metadata": {
        "id": "KBG93UY3jy0P",
        "colab_type": "code",
        "colab": {
          "base_uri": "https://localhost:8080/",
          "height": 689
        },
        "outputId": "7f94febc-9aac-4fdc-bcc5-63a1681c1b71"
      },
      "source": [
        "colNames = ['mpg', 'displacement', 'horsepower', 'weight', 'acceleration']\n",
        "for col in colNames:\n",
        "  print(\"==============================\")\n",
        "  print(col)\n",
        "  outliers=find_outlier(data,col)"
      ],
      "execution_count": 53,
      "outputs": [
        {
          "output_type": "stream",
          "text": [
            "==============================\n",
            "mpg\n",
            "1st Quartile 17.25\n",
            "3rd Quartile 29.0\n",
            "IQR 11.75\n",
            "Lower bound -0.38\n",
            "Upper bound 46.62\n",
            "Number of outliers 0\n",
            "==============================\n",
            "displacement\n",
            "1st Quartile 102.5\n",
            "3rd Quartile 264.5\n",
            "IQR 162.0\n",
            "Lower bound -140.5\n",
            "Upper bound 507.5\n",
            "Number of outliers 0\n",
            "==============================\n",
            "horsepower\n",
            "1st Quartile 75.5\n",
            "3rd Quartile 125.0\n",
            "IQR 49.5\n",
            "Lower bound 1.25\n",
            "Upper bound 199.25\n",
            "Number of outliers 11\n",
            "==============================\n",
            "weight\n",
            "1st Quartile 2221.5\n",
            "3rd Quartile 3611.0\n",
            "IQR 1389.5\n",
            "Lower bound 137.25\n",
            "Upper bound 5695.25\n",
            "Number of outliers 0\n",
            "==============================\n",
            "acceleration\n",
            "1st Quartile 13.85\n",
            "3rd Quartile 17.2\n",
            "IQR 3.35\n",
            "Lower bound 8.83\n",
            "Upper bound 22.22\n",
            "Number of outliers 6\n"
          ],
          "name": "stdout"
        }
      ]
    },
    {
      "cell_type": "code",
      "metadata": {
        "id": "AR80WZUlWxSB",
        "colab_type": "code",
        "colab": {}
      },
      "source": [
        "def remove_outlier(ds,col):\n",
        "  q1=ds[col].quantile(0.25)\n",
        "  q3=ds[col].quantile(0.75)\n",
        "  IQR=q3-q1\n",
        "  low_val=q1-1.5*IQR\n",
        "  high_val=q3+1.5*IQR\n",
        "  ds_out=ds.loc[(ds[col]>low_val) & (ds[col]<high_val)]\n",
        "  return ds_out"
      ],
      "execution_count": 0,
      "outputs": []
    },
    {
      "cell_type": "code",
      "metadata": {
        "id": "KFtXVUQfXYQ4",
        "colab_type": "code",
        "colab": {}
      },
      "source": [
        "pd.set_option('mode.chained_assignment', None)"
      ],
      "execution_count": 0,
      "outputs": []
    },
    {
      "cell_type": "code",
      "metadata": {
        "id": "BID3EPl5mNOh",
        "colab_type": "code",
        "colab": {
          "base_uri": "https://localhost:8080/",
          "height": 385
        },
        "outputId": "acf775a6-8e5f-43b0-f60d-51724a527c9e"
      },
      "source": [
        "outliers=find_outlier(data, 'horsepower')\n",
        "q1=data['horsepower'].quantile(0.25)\n",
        "q3=data['horsepower'].quantile(0.75)\n",
        "IQR=q3-q1\n",
        "outliers.loc[:,'horsepower']=1.5*IQR\n",
        "outlier_removed_rows=remove_outlier(data,'horsepower')\n",
        "data_mod=outlier_removed_rows.append(outliers)\n",
        "data_mod.describe()"
      ],
      "execution_count": 56,
      "outputs": [
        {
          "output_type": "stream",
          "text": [
            "1st Quartile 75.5\n",
            "3rd Quartile 125.0\n",
            "IQR 49.5\n",
            "Lower bound 1.25\n",
            "Upper bound 199.25\n",
            "Number of outliers 11\n"
          ],
          "name": "stdout"
        },
        {
          "output_type": "execute_result",
          "data": {
            "text/html": [
              "<div>\n",
              "<style scoped>\n",
              "    .dataframe tbody tr th:only-of-type {\n",
              "        vertical-align: middle;\n",
              "    }\n",
              "\n",
              "    .dataframe tbody tr th {\n",
              "        vertical-align: top;\n",
              "    }\n",
              "\n",
              "    .dataframe thead th {\n",
              "        text-align: right;\n",
              "    }\n",
              "</style>\n",
              "<table border=\"1\" class=\"dataframe\">\n",
              "  <thead>\n",
              "    <tr style=\"text-align: right;\">\n",
              "      <th></th>\n",
              "      <th>mpg</th>\n",
              "      <th>cylinders</th>\n",
              "      <th>displacement</th>\n",
              "      <th>horsepower</th>\n",
              "      <th>weight</th>\n",
              "      <th>acceleration</th>\n",
              "      <th>model_year</th>\n",
              "      <th>origin_country_1</th>\n",
              "      <th>origin_country_2</th>\n",
              "      <th>origin_country_3</th>\n",
              "    </tr>\n",
              "  </thead>\n",
              "  <tbody>\n",
              "    <tr>\n",
              "      <th>count</th>\n",
              "      <td>391.000000</td>\n",
              "      <td>391.000000</td>\n",
              "      <td>391.000000</td>\n",
              "      <td>391.000000</td>\n",
              "      <td>391.000000</td>\n",
              "      <td>391.000000</td>\n",
              "      <td>391.000000</td>\n",
              "      <td>391.000000</td>\n",
              "      <td>391.000000</td>\n",
              "      <td>391.000000</td>\n",
              "    </tr>\n",
              "    <tr>\n",
              "      <th>mean</th>\n",
              "      <td>23.550384</td>\n",
              "      <td>5.450128</td>\n",
              "      <td>193.190537</td>\n",
              "      <td>100.552886</td>\n",
              "      <td>2970.166240</td>\n",
              "      <td>15.573643</td>\n",
              "      <td>76.033248</td>\n",
              "      <td>0.621483</td>\n",
              "      <td>0.176471</td>\n",
              "      <td>0.202046</td>\n",
              "    </tr>\n",
              "    <tr>\n",
              "      <th>std</th>\n",
              "      <td>7.862824</td>\n",
              "      <td>1.707283</td>\n",
              "      <td>104.567339</td>\n",
              "      <td>33.254942</td>\n",
              "      <td>851.201655</td>\n",
              "      <td>2.737953</td>\n",
              "      <td>3.676874</td>\n",
              "      <td>0.485639</td>\n",
              "      <td>0.381708</td>\n",
              "      <td>0.402041</td>\n",
              "    </tr>\n",
              "    <tr>\n",
              "      <th>min</th>\n",
              "      <td>9.000000</td>\n",
              "      <td>3.000000</td>\n",
              "      <td>68.000000</td>\n",
              "      <td>46.000000</td>\n",
              "      <td>1613.000000</td>\n",
              "      <td>8.000000</td>\n",
              "      <td>70.000000</td>\n",
              "      <td>0.000000</td>\n",
              "      <td>0.000000</td>\n",
              "      <td>0.000000</td>\n",
              "    </tr>\n",
              "    <tr>\n",
              "      <th>25%</th>\n",
              "      <td>17.250000</td>\n",
              "      <td>4.000000</td>\n",
              "      <td>102.500000</td>\n",
              "      <td>75.000000</td>\n",
              "      <td>2221.500000</td>\n",
              "      <td>13.850000</td>\n",
              "      <td>73.000000</td>\n",
              "      <td>0.000000</td>\n",
              "      <td>0.000000</td>\n",
              "      <td>0.000000</td>\n",
              "    </tr>\n",
              "    <tr>\n",
              "      <th>50%</th>\n",
              "      <td>23.000000</td>\n",
              "      <td>4.000000</td>\n",
              "      <td>146.000000</td>\n",
              "      <td>90.000000</td>\n",
              "      <td>2795.000000</td>\n",
              "      <td>15.500000</td>\n",
              "      <td>76.000000</td>\n",
              "      <td>1.000000</td>\n",
              "      <td>0.000000</td>\n",
              "      <td>0.000000</td>\n",
              "    </tr>\n",
              "    <tr>\n",
              "      <th>75%</th>\n",
              "      <td>29.000000</td>\n",
              "      <td>8.000000</td>\n",
              "      <td>264.500000</td>\n",
              "      <td>115.000000</td>\n",
              "      <td>3611.000000</td>\n",
              "      <td>17.200000</td>\n",
              "      <td>79.000000</td>\n",
              "      <td>1.000000</td>\n",
              "      <td>0.000000</td>\n",
              "      <td>0.000000</td>\n",
              "    </tr>\n",
              "    <tr>\n",
              "      <th>max</th>\n",
              "      <td>46.600000</td>\n",
              "      <td>8.000000</td>\n",
              "      <td>455.000000</td>\n",
              "      <td>198.000000</td>\n",
              "      <td>5140.000000</td>\n",
              "      <td>24.800000</td>\n",
              "      <td>82.000000</td>\n",
              "      <td>1.000000</td>\n",
              "      <td>1.000000</td>\n",
              "      <td>1.000000</td>\n",
              "    </tr>\n",
              "  </tbody>\n",
              "</table>\n",
              "</div>"
            ],
            "text/plain": [
              "              mpg   cylinders  displacement  horsepower       weight  \\\n",
              "count  391.000000  391.000000    391.000000  391.000000   391.000000   \n",
              "mean    23.550384    5.450128    193.190537  100.552886  2970.166240   \n",
              "std      7.862824    1.707283    104.567339   33.254942   851.201655   \n",
              "min      9.000000    3.000000     68.000000   46.000000  1613.000000   \n",
              "25%     17.250000    4.000000    102.500000   75.000000  2221.500000   \n",
              "50%     23.000000    4.000000    146.000000   90.000000  2795.000000   \n",
              "75%     29.000000    8.000000    264.500000  115.000000  3611.000000   \n",
              "max     46.600000    8.000000    455.000000  198.000000  5140.000000   \n",
              "\n",
              "       acceleration  model_year  origin_country_1  origin_country_2  \\\n",
              "count    391.000000  391.000000        391.000000        391.000000   \n",
              "mean      15.573643   76.033248          0.621483          0.176471   \n",
              "std        2.737953    3.676874          0.485639          0.381708   \n",
              "min        8.000000   70.000000          0.000000          0.000000   \n",
              "25%       13.850000   73.000000          0.000000          0.000000   \n",
              "50%       15.500000   76.000000          1.000000          0.000000   \n",
              "75%       17.200000   79.000000          1.000000          0.000000   \n",
              "max       24.800000   82.000000          1.000000          1.000000   \n",
              "\n",
              "       origin_country_3  \n",
              "count        391.000000  \n",
              "mean           0.202046  \n",
              "std            0.402041  \n",
              "min            0.000000  \n",
              "25%            0.000000  \n",
              "50%            0.000000  \n",
              "75%            0.000000  \n",
              "max            1.000000  "
            ]
          },
          "metadata": {
            "tags": []
          },
          "execution_count": 56
        }
      ]
    },
    {
      "cell_type": "code",
      "metadata": {
        "id": "weP3g00pmRDV",
        "colab_type": "code",
        "colab": {
          "base_uri": "https://localhost:8080/",
          "height": 385
        },
        "outputId": "efe579d8-a040-44c4-f9f8-9a4885e0e5c7"
      },
      "source": [
        "outliers=find_outlier(data, 'acceleration')\n",
        "q1=data['acceleration'].quantile(0.25)\n",
        "q3=data['acceleration'].quantile(0.75)\n",
        "IQR=q3-q1\n",
        "outliers.loc[:,'acceleration']=1.5*IQR\n",
        "outlier_removed_rows=remove_outlier(data,'acceleration')\n",
        "data_mod=outlier_removed_rows.append(outliers)\n",
        "data_mod.describe()"
      ],
      "execution_count": 57,
      "outputs": [
        {
          "output_type": "stream",
          "text": [
            "1st Quartile 13.85\n",
            "3rd Quartile 17.2\n",
            "IQR 3.35\n",
            "Lower bound 8.83\n",
            "Upper bound 22.22\n",
            "Number of outliers 6\n"
          ],
          "name": "stdout"
        },
        {
          "output_type": "execute_result",
          "data": {
            "text/html": [
              "<div>\n",
              "<style scoped>\n",
              "    .dataframe tbody tr th:only-of-type {\n",
              "        vertical-align: middle;\n",
              "    }\n",
              "\n",
              "    .dataframe tbody tr th {\n",
              "        vertical-align: top;\n",
              "    }\n",
              "\n",
              "    .dataframe thead th {\n",
              "        text-align: right;\n",
              "    }\n",
              "</style>\n",
              "<table border=\"1\" class=\"dataframe\">\n",
              "  <thead>\n",
              "    <tr style=\"text-align: right;\">\n",
              "      <th></th>\n",
              "      <th>mpg</th>\n",
              "      <th>cylinders</th>\n",
              "      <th>displacement</th>\n",
              "      <th>horsepower</th>\n",
              "      <th>weight</th>\n",
              "      <th>acceleration</th>\n",
              "      <th>model_year</th>\n",
              "      <th>origin_country_1</th>\n",
              "      <th>origin_country_2</th>\n",
              "      <th>origin_country_3</th>\n",
              "    </tr>\n",
              "  </thead>\n",
              "  <tbody>\n",
              "    <tr>\n",
              "      <th>count</th>\n",
              "      <td>391.000000</td>\n",
              "      <td>391.000000</td>\n",
              "      <td>391.000000</td>\n",
              "      <td>391.000000</td>\n",
              "      <td>391.000000</td>\n",
              "      <td>391.000000</td>\n",
              "      <td>391.000000</td>\n",
              "      <td>391.000000</td>\n",
              "      <td>391.000000</td>\n",
              "      <td>391.000000</td>\n",
              "    </tr>\n",
              "    <tr>\n",
              "      <th>mean</th>\n",
              "      <td>23.550384</td>\n",
              "      <td>5.450128</td>\n",
              "      <td>193.190537</td>\n",
              "      <td>104.571429</td>\n",
              "      <td>2970.166240</td>\n",
              "      <td>15.361495</td>\n",
              "      <td>76.033248</td>\n",
              "      <td>0.621483</td>\n",
              "      <td>0.176471</td>\n",
              "      <td>0.202046</td>\n",
              "    </tr>\n",
              "    <tr>\n",
              "      <th>std</th>\n",
              "      <td>7.862824</td>\n",
              "      <td>1.707283</td>\n",
              "      <td>104.567339</td>\n",
              "      <td>38.148370</td>\n",
              "      <td>851.201655</td>\n",
              "      <td>2.851349</td>\n",
              "      <td>3.676874</td>\n",
              "      <td>0.485639</td>\n",
              "      <td>0.381708</td>\n",
              "      <td>0.402041</td>\n",
              "    </tr>\n",
              "    <tr>\n",
              "      <th>min</th>\n",
              "      <td>9.000000</td>\n",
              "      <td>3.000000</td>\n",
              "      <td>68.000000</td>\n",
              "      <td>46.000000</td>\n",
              "      <td>1613.000000</td>\n",
              "      <td>5.025000</td>\n",
              "      <td>70.000000</td>\n",
              "      <td>0.000000</td>\n",
              "      <td>0.000000</td>\n",
              "      <td>0.000000</td>\n",
              "    </tr>\n",
              "    <tr>\n",
              "      <th>25%</th>\n",
              "      <td>17.250000</td>\n",
              "      <td>4.000000</td>\n",
              "      <td>102.500000</td>\n",
              "      <td>75.500000</td>\n",
              "      <td>2221.500000</td>\n",
              "      <td>13.650000</td>\n",
              "      <td>73.000000</td>\n",
              "      <td>0.000000</td>\n",
              "      <td>0.000000</td>\n",
              "      <td>0.000000</td>\n",
              "    </tr>\n",
              "    <tr>\n",
              "      <th>50%</th>\n",
              "      <td>23.000000</td>\n",
              "      <td>4.000000</td>\n",
              "      <td>146.000000</td>\n",
              "      <td>95.000000</td>\n",
              "      <td>2795.000000</td>\n",
              "      <td>15.500000</td>\n",
              "      <td>76.000000</td>\n",
              "      <td>1.000000</td>\n",
              "      <td>0.000000</td>\n",
              "      <td>0.000000</td>\n",
              "    </tr>\n",
              "    <tr>\n",
              "      <th>75%</th>\n",
              "      <td>29.000000</td>\n",
              "      <td>8.000000</td>\n",
              "      <td>264.500000</td>\n",
              "      <td>125.000000</td>\n",
              "      <td>3611.000000</td>\n",
              "      <td>17.000000</td>\n",
              "      <td>79.000000</td>\n",
              "      <td>1.000000</td>\n",
              "      <td>0.000000</td>\n",
              "      <td>0.000000</td>\n",
              "    </tr>\n",
              "    <tr>\n",
              "      <th>max</th>\n",
              "      <td>46.600000</td>\n",
              "      <td>8.000000</td>\n",
              "      <td>455.000000</td>\n",
              "      <td>230.000000</td>\n",
              "      <td>5140.000000</td>\n",
              "      <td>22.200000</td>\n",
              "      <td>82.000000</td>\n",
              "      <td>1.000000</td>\n",
              "      <td>1.000000</td>\n",
              "      <td>1.000000</td>\n",
              "    </tr>\n",
              "  </tbody>\n",
              "</table>\n",
              "</div>"
            ],
            "text/plain": [
              "              mpg   cylinders  displacement  horsepower       weight  \\\n",
              "count  391.000000  391.000000    391.000000  391.000000   391.000000   \n",
              "mean    23.550384    5.450128    193.190537  104.571429  2970.166240   \n",
              "std      7.862824    1.707283    104.567339   38.148370   851.201655   \n",
              "min      9.000000    3.000000     68.000000   46.000000  1613.000000   \n",
              "25%     17.250000    4.000000    102.500000   75.500000  2221.500000   \n",
              "50%     23.000000    4.000000    146.000000   95.000000  2795.000000   \n",
              "75%     29.000000    8.000000    264.500000  125.000000  3611.000000   \n",
              "max     46.600000    8.000000    455.000000  230.000000  5140.000000   \n",
              "\n",
              "       acceleration  model_year  origin_country_1  origin_country_2  \\\n",
              "count    391.000000  391.000000        391.000000        391.000000   \n",
              "mean      15.361495   76.033248          0.621483          0.176471   \n",
              "std        2.851349    3.676874          0.485639          0.381708   \n",
              "min        5.025000   70.000000          0.000000          0.000000   \n",
              "25%       13.650000   73.000000          0.000000          0.000000   \n",
              "50%       15.500000   76.000000          1.000000          0.000000   \n",
              "75%       17.000000   79.000000          1.000000          0.000000   \n",
              "max       22.200000   82.000000          1.000000          1.000000   \n",
              "\n",
              "       origin_country_3  \n",
              "count        391.000000  \n",
              "mean           0.202046  \n",
              "std            0.402041  \n",
              "min            0.000000  \n",
              "25%            0.000000  \n",
              "50%            0.000000  \n",
              "75%            0.000000  \n",
              "max            1.000000  "
            ]
          },
          "metadata": {
            "tags": []
          },
          "execution_count": 57
        }
      ]
    },
    {
      "cell_type": "code",
      "metadata": {
        "id": "0UUmKQs_Qgc8",
        "colab_type": "code",
        "colab": {
          "base_uri": "https://localhost:8080/",
          "height": 507
        },
        "outputId": "ec991e03-c0d6-4092-9b75-799f59aec225"
      },
      "source": [
        "colNames = ['mpg', 'displacement', 'horsepower', 'weight', 'acceleration']\n",
        "data.hist(column=colNames)"
      ],
      "execution_count": 70,
      "outputs": [
        {
          "output_type": "execute_result",
          "data": {
            "text/plain": [
              "array([[<matplotlib.axes._subplots.AxesSubplot object at 0x7f6f58c7f240>,\n",
              "        <matplotlib.axes._subplots.AxesSubplot object at 0x7f6f57849160>],\n",
              "       [<matplotlib.axes._subplots.AxesSubplot object at 0x7f6f5779aef0>,\n",
              "        <matplotlib.axes._subplots.AxesSubplot object at 0x7f6f577c94a8>],\n",
              "       [<matplotlib.axes._subplots.AxesSubplot object at 0x7f6f57772a20>,\n",
              "        <matplotlib.axes._subplots.AxesSubplot object at 0x7f6f5771af98>]],\n",
              "      dtype=object)"
            ]
          },
          "metadata": {
            "tags": []
          },
          "execution_count": 70
        },
        {
          "output_type": "display_data",
          "data": {
            "image/png": "[encoded data removed]",
            "text/plain": [
              "<Figure size 432x432 with 6 Axes>"
            ]
          },
          "metadata": {
            "tags": []
          }
        }
      ]
    },
    {
      "cell_type": "code",
      "metadata": {
        "id": "PtfRmhBgjvvl",
        "colab_type": "code",
        "colab": {
          "base_uri": "https://localhost:8080/",
          "height": 409
        },
        "outputId": "2ec2885e-b4d4-4f62-ec31-924064791766"
      },
      "source": [
        "sns.distplot(data['mpg'])"
      ],
      "execution_count": 147,
      "outputs": [
        {
          "output_type": "execute_result",
          "data": {
            "text/plain": [
              "<matplotlib.axes._subplots.AxesSubplot at 0x7f43b58c6358>"
            ]
          },
          "metadata": {
            "tags": []
          },
          "execution_count": 147
        },
        {
          "output_type": "display_data",
          "data": {
            "image/png": "[encoded data removed]",
            "text/plain": [
              "<Figure size 432x432 with 1 Axes>"
            ]
          },
          "metadata": {
            "tags": []
          }
        }
      ]
    },
    {
      "cell_type": "code",
      "metadata": {
        "id": "y3kb3RtfZgXp",
        "colab_type": "code",
        "colab": {
          "base_uri": "https://localhost:8080/",
          "height": 238
        },
        "outputId": "d8e17e9f-43a5-458c-d11d-a1f71da2ba99"
      },
      "source": [
        "corr=data.corr()\n",
        "corr.style.background_gradient(cmap='coolwarm').set_precision(2)"
      ],
      "execution_count": 146,
      "outputs": [
        {
          "output_type": "execute_result",
          "data": {
            "text/html": [
              "<style  type=\"text/css\" >\n",
              "    #T_f84ef1ae_70f8_11e9_aff0_0242ac1c0002row0_col0 {\n",
              "            background-color:  #b40426;\n",
              "            color:  #f1f1f1;\n",
              "        }    #T_f84ef1ae_70f8_11e9_aff0_0242ac1c0002row0_col1 {\n",
              "            background-color:  #3b4cc0;\n",
              "            color:  #f1f1f1;\n",
              "        }    #T_f84ef1ae_70f8_11e9_aff0_0242ac1c0002row0_col2 {\n",
              "            background-color:  #3b4cc0;\n",
              "            color:  #f1f1f1;\n",
              "        }    #T_f84ef1ae_70f8_11e9_aff0_0242ac1c0002row0_col3 {\n",
              "            background-color:  #3b4cc0;\n",
              "            color:  #f1f1f1;\n",
              "        }    #T_f84ef1ae_70f8_11e9_aff0_0242ac1c0002row0_col4 {\n",
              "            background-color:  #3b4cc0;\n",
              "            color:  #f1f1f1;\n",
              "        }    #T_f84ef1ae_70f8_11e9_aff0_0242ac1c0002row0_col5 {\n",
              "            background-color:  #f6bda2;\n",
              "            color:  #000000;\n",
              "        }    #T_f84ef1ae_70f8_11e9_aff0_0242ac1c0002row0_col6 {\n",
              "            background-color:  #f7aa8c;\n",
              "            color:  #000000;\n",
              "        }    #T_f84ef1ae_70f8_11e9_aff0_0242ac1c0002row0_col7 {\n",
              "            background-color:  #485fd1;\n",
              "            color:  #f1f1f1;\n",
              "        }    #T_f84ef1ae_70f8_11e9_aff0_0242ac1c0002row0_col8 {\n",
              "            background-color:  #e5d8d1;\n",
              "            color:  #000000;\n",
              "        }    #T_f84ef1ae_70f8_11e9_aff0_0242ac1c0002row0_col9 {\n",
              "            background-color:  #f7b99e;\n",
              "            color:  #000000;\n",
              "        }    #T_f84ef1ae_70f8_11e9_aff0_0242ac1c0002row1_col0 {\n",
              "            background-color:  #445acc;\n",
              "            color:  #f1f1f1;\n",
              "        }    #T_f84ef1ae_70f8_11e9_aff0_0242ac1c0002row1_col1 {\n",
              "            background-color:  #b40426;\n",
              "            color:  #f1f1f1;\n",
              "        }    #T_f84ef1ae_70f8_11e9_aff0_0242ac1c0002row1_col2 {\n",
              "            background-color:  #bd1f2d;\n",
              "            color:  #f1f1f1;\n",
              "        }    #T_f84ef1ae_70f8_11e9_aff0_0242ac1c0002row1_col3 {\n",
              "            background-color:  #d44e41;\n",
              "            color:  #000000;\n",
              "        }    #T_f84ef1ae_70f8_11e9_aff0_0242ac1c0002row1_col4 {\n",
              "            background-color:  #c83836;\n",
              "            color:  #f1f1f1;\n",
              "        }    #T_f84ef1ae_70f8_11e9_aff0_0242ac1c0002row1_col5 {\n",
              "            background-color:  #5b7ae5;\n",
              "            color:  #000000;\n",
              "        }    #T_f84ef1ae_70f8_11e9_aff0_0242ac1c0002row1_col6 {\n",
              "            background-color:  #4961d2;\n",
              "            color:  #f1f1f1;\n",
              "        }    #T_f84ef1ae_70f8_11e9_aff0_0242ac1c0002row1_col7 {\n",
              "            background-color:  #f39577;\n",
              "            color:  #000000;\n",
              "        }    #T_f84ef1ae_70f8_11e9_aff0_0242ac1c0002row1_col8 {\n",
              "            background-color:  #6b8df0;\n",
              "            color:  #000000;\n",
              "        }    #T_f84ef1ae_70f8_11e9_aff0_0242ac1c0002row1_col9 {\n",
              "            background-color:  #6a8bef;\n",
              "            color:  #000000;\n",
              "        }    #T_f84ef1ae_70f8_11e9_aff0_0242ac1c0002row2_col0 {\n",
              "            background-color:  #3e51c5;\n",
              "            color:  #f1f1f1;\n",
              "        }    #T_f84ef1ae_70f8_11e9_aff0_0242ac1c0002row2_col1 {\n",
              "            background-color:  #be242e;\n",
              "            color:  #f1f1f1;\n",
              "        }    #T_f84ef1ae_70f8_11e9_aff0_0242ac1c0002row2_col2 {\n",
              "            background-color:  #b40426;\n",
              "            color:  #f1f1f1;\n",
              "        }    #T_f84ef1ae_70f8_11e9_aff0_0242ac1c0002row2_col3 {\n",
              "            background-color:  #ca3b37;\n",
              "            color:  #f1f1f1;\n",
              "        }    #T_f84ef1ae_70f8_11e9_aff0_0242ac1c0002row2_col4 {\n",
              "            background-color:  #c12b30;\n",
              "            color:  #f1f1f1;\n",
              "        }    #T_f84ef1ae_70f8_11e9_aff0_0242ac1c0002row2_col5 {\n",
              "            background-color:  #5470de;\n",
              "            color:  #000000;\n",
              "        }    #T_f84ef1ae_70f8_11e9_aff0_0242ac1c0002row2_col6 {\n",
              "            background-color:  #4358cb;\n",
              "            color:  #f1f1f1;\n",
              "        }    #T_f84ef1ae_70f8_11e9_aff0_0242ac1c0002row2_col7 {\n",
              "            background-color:  #ef886b;\n",
              "            color:  #000000;\n",
              "        }    #T_f84ef1ae_70f8_11e9_aff0_0242ac1c0002row2_col8 {\n",
              "            background-color:  #6687ed;\n",
              "            color:  #000000;\n",
              "        }    #T_f84ef1ae_70f8_11e9_aff0_0242ac1c0002row2_col9 {\n",
              "            background-color:  #6282ea;\n",
              "            color:  #000000;\n",
              "        }    #T_f84ef1ae_70f8_11e9_aff0_0242ac1c0002row3_col0 {\n",
              "            background-color:  #4358cb;\n",
              "            color:  #f1f1f1;\n",
              "        }    #T_f84ef1ae_70f8_11e9_aff0_0242ac1c0002row3_col1 {\n",
              "            background-color:  #d44e41;\n",
              "            color:  #000000;\n",
              "        }    #T_f84ef1ae_70f8_11e9_aff0_0242ac1c0002row3_col2 {\n",
              "            background-color:  #ca3b37;\n",
              "            color:  #f1f1f1;\n",
              "        }    #T_f84ef1ae_70f8_11e9_aff0_0242ac1c0002row3_col3 {\n",
              "            background-color:  #b40426;\n",
              "            color:  #f1f1f1;\n",
              "        }    #T_f84ef1ae_70f8_11e9_aff0_0242ac1c0002row3_col4 {\n",
              "            background-color:  #cf453c;\n",
              "            color:  #f1f1f1;\n",
              "        }    #T_f84ef1ae_70f8_11e9_aff0_0242ac1c0002row3_col5 {\n",
              "            background-color:  #3b4cc0;\n",
              "            color:  #f1f1f1;\n",
              "        }    #T_f84ef1ae_70f8_11e9_aff0_0242ac1c0002row3_col6 {\n",
              "            background-color:  #3b4cc0;\n",
              "            color:  #f1f1f1;\n",
              "        }    #T_f84ef1ae_70f8_11e9_aff0_0242ac1c0002row3_col7 {\n",
              "            background-color:  #f7b093;\n",
              "            color:  #000000;\n",
              "        }    #T_f84ef1ae_70f8_11e9_aff0_0242ac1c0002row3_col8 {\n",
              "            background-color:  #7a9df8;\n",
              "            color:  #000000;\n",
              "        }    #T_f84ef1ae_70f8_11e9_aff0_0242ac1c0002row3_col9 {\n",
              "            background-color:  #799cf8;\n",
              "            color:  #000000;\n",
              "        }    #T_f84ef1ae_70f8_11e9_aff0_0242ac1c0002row4_col0 {\n",
              "            background-color:  #3b4cc0;\n",
              "            color:  #f1f1f1;\n",
              "        }    #T_f84ef1ae_70f8_11e9_aff0_0242ac1c0002row4_col1 {\n",
              "            background-color:  #c83836;\n",
              "            color:  #f1f1f1;\n",
              "        }    #T_f84ef1ae_70f8_11e9_aff0_0242ac1c0002row4_col2 {\n",
              "            background-color:  #c12b30;\n",
              "            color:  #f1f1f1;\n",
              "        }    #T_f84ef1ae_70f8_11e9_aff0_0242ac1c0002row4_col3 {\n",
              "            background-color:  #cf453c;\n",
              "            color:  #f1f1f1;\n",
              "        }    #T_f84ef1ae_70f8_11e9_aff0_0242ac1c0002row4_col4 {\n",
              "            background-color:  #b40426;\n",
              "            color:  #f1f1f1;\n",
              "        }    #T_f84ef1ae_70f8_11e9_aff0_0242ac1c0002row4_col5 {\n",
              "            background-color:  #6c8ff1;\n",
              "            color:  #000000;\n",
              "        }    #T_f84ef1ae_70f8_11e9_aff0_0242ac1c0002row4_col6 {\n",
              "            background-color:  #506bda;\n",
              "            color:  #000000;\n",
              "        }    #T_f84ef1ae_70f8_11e9_aff0_0242ac1c0002row4_col7 {\n",
              "            background-color:  #f39778;\n",
              "            color:  #000000;\n",
              "        }    #T_f84ef1ae_70f8_11e9_aff0_0242ac1c0002row4_col8 {\n",
              "            background-color:  #779af7;\n",
              "            color:  #000000;\n",
              "        }    #T_f84ef1ae_70f8_11e9_aff0_0242ac1c0002row4_col9 {\n",
              "            background-color:  #6180e9;\n",
              "            color:  #000000;\n",
              "        }    #T_f84ef1ae_70f8_11e9_aff0_0242ac1c0002row5_col0 {\n",
              "            background-color:  #f7b396;\n",
              "            color:  #000000;\n",
              "        }    #T_f84ef1ae_70f8_11e9_aff0_0242ac1c0002row5_col1 {\n",
              "            background-color:  #6c8ff1;\n",
              "            color:  #000000;\n",
              "        }    #T_f84ef1ae_70f8_11e9_aff0_0242ac1c0002row5_col2 {\n",
              "            background-color:  #6a8bef;\n",
              "            color:  #000000;\n",
              "        }    #T_f84ef1ae_70f8_11e9_aff0_0242ac1c0002row5_col3 {\n",
              "            background-color:  #4b64d5;\n",
              "            color:  #f1f1f1;\n",
              "        }    #T_f84ef1ae_70f8_11e9_aff0_0242ac1c0002row5_col4 {\n",
              "            background-color:  #85a8fc;\n",
              "            color:  #000000;\n",
              "        }    #T_f84ef1ae_70f8_11e9_aff0_0242ac1c0002row5_col5 {\n",
              "            background-color:  #b40426;\n",
              "            color:  #f1f1f1;\n",
              "        }    #T_f84ef1ae_70f8_11e9_aff0_0242ac1c0002row5_col6 {\n",
              "            background-color:  #dbdcde;\n",
              "            color:  #000000;\n",
              "        }    #T_f84ef1ae_70f8_11e9_aff0_0242ac1c0002row5_col7 {\n",
              "            background-color:  #8badfd;\n",
              "            color:  #000000;\n",
              "        }    #T_f84ef1ae_70f8_11e9_aff0_0242ac1c0002row5_col8 {\n",
              "            background-color:  #dbdcde;\n",
              "            color:  #000000;\n",
              "        }    #T_f84ef1ae_70f8_11e9_aff0_0242ac1c0002row5_col9 {\n",
              "            background-color:  #d2dbe8;\n",
              "            color:  #000000;\n",
              "        }    #T_f84ef1ae_70f8_11e9_aff0_0242ac1c0002row6_col0 {\n",
              "            background-color:  #f29072;\n",
              "            color:  #000000;\n",
              "        }    #T_f84ef1ae_70f8_11e9_aff0_0242ac1c0002row6_col1 {\n",
              "            background-color:  #89acfd;\n",
              "            color:  #000000;\n",
              "        }    #T_f84ef1ae_70f8_11e9_aff0_0242ac1c0002row6_col2 {\n",
              "            background-color:  #89acfd;\n",
              "            color:  #000000;\n",
              "        }    #T_f84ef1ae_70f8_11e9_aff0_0242ac1c0002row6_col3 {\n",
              "            background-color:  #7da0f9;\n",
              "            color:  #000000;\n",
              "        }    #T_f84ef1ae_70f8_11e9_aff0_0242ac1c0002row6_col4 {\n",
              "            background-color:  #98b9ff;\n",
              "            color:  #000000;\n",
              "        }    #T_f84ef1ae_70f8_11e9_aff0_0242ac1c0002row6_col5 {\n",
              "            background-color:  #edd1c2;\n",
              "            color:  #000000;\n",
              "        }    #T_f84ef1ae_70f8_11e9_aff0_0242ac1c0002row6_col6 {\n",
              "            background-color:  #b40426;\n",
              "            color:  #f1f1f1;\n",
              "        }    #T_f84ef1ae_70f8_11e9_aff0_0242ac1c0002row6_col7 {\n",
              "            background-color:  #a1c0ff;\n",
              "            color:  #000000;\n",
              "        }    #T_f84ef1ae_70f8_11e9_aff0_0242ac1c0002row6_col8 {\n",
              "            background-color:  #b2ccfb;\n",
              "            color:  #000000;\n",
              "        }    #T_f84ef1ae_70f8_11e9_aff0_0242ac1c0002row6_col9 {\n",
              "            background-color:  #dfdbd9;\n",
              "            color:  #000000;\n",
              "        }    #T_f84ef1ae_70f8_11e9_aff0_0242ac1c0002row7_col0 {\n",
              "            background-color:  #6788ee;\n",
              "            color:  #000000;\n",
              "        }    #T_f84ef1ae_70f8_11e9_aff0_0242ac1c0002row7_col1 {\n",
              "            background-color:  #f18d6f;\n",
              "            color:  #000000;\n",
              "        }    #T_f84ef1ae_70f8_11e9_aff0_0242ac1c0002row7_col2 {\n",
              "            background-color:  #ec8165;\n",
              "            color:  #000000;\n",
              "        }    #T_f84ef1ae_70f8_11e9_aff0_0242ac1c0002row7_col3 {\n",
              "            background-color:  #f7a889;\n",
              "            color:  #000000;\n",
              "        }    #T_f84ef1ae_70f8_11e9_aff0_0242ac1c0002row7_col4 {\n",
              "            background-color:  #f18d6f;\n",
              "            color:  #000000;\n",
              "        }    #T_f84ef1ae_70f8_11e9_aff0_0242ac1c0002row7_col5 {\n",
              "            background-color:  #8fb1fe;\n",
              "            color:  #000000;\n",
              "        }    #T_f84ef1ae_70f8_11e9_aff0_0242ac1c0002row7_col6 {\n",
              "            background-color:  #799cf8;\n",
              "            color:  #000000;\n",
              "        }    #T_f84ef1ae_70f8_11e9_aff0_0242ac1c0002row7_col7 {\n",
              "            background-color:  #b40426;\n",
              "            color:  #f1f1f1;\n",
              "        }    #T_f84ef1ae_70f8_11e9_aff0_0242ac1c0002row7_col8 {\n",
              "            background-color:  #3b4cc0;\n",
              "            color:  #f1f1f1;\n",
              "        }    #T_f84ef1ae_70f8_11e9_aff0_0242ac1c0002row7_col9 {\n",
              "            background-color:  #3b4cc0;\n",
              "            color:  #f1f1f1;\n",
              "        }    #T_f84ef1ae_70f8_11e9_aff0_0242ac1c0002row8_col0 {\n",
              "            background-color:  #f1ccb8;\n",
              "            color:  #000000;\n",
              "        }    #T_f84ef1ae_70f8_11e9_aff0_0242ac1c0002row8_col1 {\n",
              "            background-color:  #89acfd;\n",
              "            color:  #000000;\n",
              "        }    #T_f84ef1ae_70f8_11e9_aff0_0242ac1c0002row8_col2 {\n",
              "            background-color:  #89acfd;\n",
              "            color:  #000000;\n",
              "        }    #T_f84ef1ae_70f8_11e9_aff0_0242ac1c0002row8_col3 {\n",
              "            background-color:  #97b8ff;\n",
              "            color:  #000000;\n",
              "        }    #T_f84ef1ae_70f8_11e9_aff0_0242ac1c0002row8_col4 {\n",
              "            background-color:  #9dbdff;\n",
              "            color:  #000000;\n",
              "        }    #T_f84ef1ae_70f8_11e9_aff0_0242ac1c0002row8_col5 {\n",
              "            background-color:  #e1dad6;\n",
              "            color:  #000000;\n",
              "        }    #T_f84ef1ae_70f8_11e9_aff0_0242ac1c0002row8_col6 {\n",
              "            background-color:  #96b7ff;\n",
              "            color:  #000000;\n",
              "        }    #T_f84ef1ae_70f8_11e9_aff0_0242ac1c0002row8_col7 {\n",
              "            background-color:  #445acc;\n",
              "            color:  #f1f1f1;\n",
              "        }    #T_f84ef1ae_70f8_11e9_aff0_0242ac1c0002row8_col8 {\n",
              "            background-color:  #b40426;\n",
              "            color:  #f1f1f1;\n",
              "        }    #T_f84ef1ae_70f8_11e9_aff0_0242ac1c0002row8_col9 {\n",
              "            background-color:  #8db0fe;\n",
              "            color:  #000000;\n",
              "        }    #T_f84ef1ae_70f8_11e9_aff0_0242ac1c0002row9_col0 {\n",
              "            background-color:  #f7ad90;\n",
              "            color:  #000000;\n",
              "        }    #T_f84ef1ae_70f8_11e9_aff0_0242ac1c0002row9_col1 {\n",
              "            background-color:  #80a3fa;\n",
              "            color:  #000000;\n",
              "        }    #T_f84ef1ae_70f8_11e9_aff0_0242ac1c0002row9_col2 {\n",
              "            background-color:  #7da0f9;\n",
              "            color:  #000000;\n",
              "        }    #T_f84ef1ae_70f8_11e9_aff0_0242ac1c0002row9_col3 {\n",
              "            background-color:  #8db0fe;\n",
              "            color:  #000000;\n",
              "        }    #T_f84ef1ae_70f8_11e9_aff0_0242ac1c0002row9_col4 {\n",
              "            background-color:  #80a3fa;\n",
              "            color:  #000000;\n",
              "        }    #T_f84ef1ae_70f8_11e9_aff0_0242ac1c0002row9_col5 {\n",
              "            background-color:  #d4dbe6;\n",
              "            color:  #000000;\n",
              "        }    #T_f84ef1ae_70f8_11e9_aff0_0242ac1c0002row9_col6 {\n",
              "            background-color:  #c9d7f0;\n",
              "            color:  #000000;\n",
              "        }    #T_f84ef1ae_70f8_11e9_aff0_0242ac1c0002row9_col7 {\n",
              "            background-color:  #3b4cc0;\n",
              "            color:  #f1f1f1;\n",
              "        }    #T_f84ef1ae_70f8_11e9_aff0_0242ac1c0002row9_col8 {\n",
              "            background-color:  #84a7fc;\n",
              "            color:  #000000;\n",
              "        }    #T_f84ef1ae_70f8_11e9_aff0_0242ac1c0002row9_col9 {\n",
              "            background-color:  #b40426;\n",
              "            color:  #f1f1f1;\n",
              "        }</style><table id=\"T_f84ef1ae_70f8_11e9_aff0_0242ac1c0002\" ><thead>    <tr>        <th class=\"blank level0\" ></th>        <th class=\"col_heading level0 col0\" >mpg</th>        <th class=\"col_heading level0 col1\" >cylinders</th>        <th class=\"col_heading level0 col2\" >displacement</th>        <th class=\"col_heading level0 col3\" >horsepower</th>        <th class=\"col_heading level0 col4\" >weight</th>        <th class=\"col_heading level0 col5\" >acceleration</th>        <th class=\"col_heading level0 col6\" >model_year</th>        <th class=\"col_heading level0 col7\" >origin_country_1</th>        <th class=\"col_heading level0 col8\" >origin_country_2</th>        <th class=\"col_heading level0 col9\" >origin_country_3</th>    </tr></thead><tbody>\n",
              "                <tr>\n",
              "                        <th id=\"T_f84ef1ae_70f8_11e9_aff0_0242ac1c0002level0_row0\" class=\"row_heading level0 row0\" >mpg</th>\n",
              "                        <td id=\"T_f84ef1ae_70f8_11e9_aff0_0242ac1c0002row0_col0\" class=\"data row0 col0\" >1</td>\n",
              "                        <td id=\"T_f84ef1ae_70f8_11e9_aff0_0242ac1c0002row0_col1\" class=\"data row0 col1\" >-0.77</td>\n",
              "                        <td id=\"T_f84ef1ae_70f8_11e9_aff0_0242ac1c0002row0_col2\" class=\"data row0 col2\" >-0.8</td>\n",
              "                        <td id=\"T_f84ef1ae_70f8_11e9_aff0_0242ac1c0002row0_col3\" class=\"data row0 col3\" >-0.78</td>\n",
              "                        <td id=\"T_f84ef1ae_70f8_11e9_aff0_0242ac1c0002row0_col4\" class=\"data row0 col4\" >-0.83</td>\n",
              "                        <td id=\"T_f84ef1ae_70f8_11e9_aff0_0242ac1c0002row0_col5\" class=\"data row0 col5\" >0.42</td>\n",
              "                        <td id=\"T_f84ef1ae_70f8_11e9_aff0_0242ac1c0002row0_col6\" class=\"data row0 col6\" >0.58</td>\n",
              "                        <td id=\"T_f84ef1ae_70f8_11e9_aff0_0242ac1c0002row0_col7\" class=\"data row0 col7\" >-0.57</td>\n",
              "                        <td id=\"T_f84ef1ae_70f8_11e9_aff0_0242ac1c0002row0_col8\" class=\"data row0 col8\" >0.26</td>\n",
              "                        <td id=\"T_f84ef1ae_70f8_11e9_aff0_0242ac1c0002row0_col9\" class=\"data row0 col9\" >0.44</td>\n",
              "            </tr>\n",
              "            <tr>\n",
              "                        <th id=\"T_f84ef1ae_70f8_11e9_aff0_0242ac1c0002level0_row1\" class=\"row_heading level0 row1\" >cylinders</th>\n",
              "                        <td id=\"T_f84ef1ae_70f8_11e9_aff0_0242ac1c0002row1_col0\" class=\"data row1 col0\" >-0.77</td>\n",
              "                        <td id=\"T_f84ef1ae_70f8_11e9_aff0_0242ac1c0002row1_col1\" class=\"data row1 col1\" >1</td>\n",
              "                        <td id=\"T_f84ef1ae_70f8_11e9_aff0_0242ac1c0002row1_col2\" class=\"data row1 col2\" >0.95</td>\n",
              "                        <td id=\"T_f84ef1ae_70f8_11e9_aff0_0242ac1c0002row1_col3\" class=\"data row1 col3\" >0.84</td>\n",
              "                        <td id=\"T_f84ef1ae_70f8_11e9_aff0_0242ac1c0002row1_col4\" class=\"data row1 col4\" >0.9</td>\n",
              "                        <td id=\"T_f84ef1ae_70f8_11e9_aff0_0242ac1c0002row1_col5\" class=\"data row1 col5\" >-0.5</td>\n",
              "                        <td id=\"T_f84ef1ae_70f8_11e9_aff0_0242ac1c0002row1_col6\" class=\"data row1 col6\" >-0.35</td>\n",
              "                        <td id=\"T_f84ef1ae_70f8_11e9_aff0_0242ac1c0002row1_col7\" class=\"data row1 col7\" >0.6</td>\n",
              "                        <td id=\"T_f84ef1ae_70f8_11e9_aff0_0242ac1c0002row1_col8\" class=\"data row1 col8\" >-0.35</td>\n",
              "                        <td id=\"T_f84ef1ae_70f8_11e9_aff0_0242ac1c0002row1_col9\" class=\"data row1 col9\" >-0.4</td>\n",
              "            </tr>\n",
              "            <tr>\n",
              "                        <th id=\"T_f84ef1ae_70f8_11e9_aff0_0242ac1c0002level0_row2\" class=\"row_heading level0 row2\" >displacement</th>\n",
              "                        <td id=\"T_f84ef1ae_70f8_11e9_aff0_0242ac1c0002row2_col0\" class=\"data row2 col0\" >-0.8</td>\n",
              "                        <td id=\"T_f84ef1ae_70f8_11e9_aff0_0242ac1c0002row2_col1\" class=\"data row2 col1\" >0.95</td>\n",
              "                        <td id=\"T_f84ef1ae_70f8_11e9_aff0_0242ac1c0002row2_col2\" class=\"data row2 col2\" >1</td>\n",
              "                        <td id=\"T_f84ef1ae_70f8_11e9_aff0_0242ac1c0002row2_col3\" class=\"data row2 col3\" >0.89</td>\n",
              "                        <td id=\"T_f84ef1ae_70f8_11e9_aff0_0242ac1c0002row2_col4\" class=\"data row2 col4\" >0.93</td>\n",
              "                        <td id=\"T_f84ef1ae_70f8_11e9_aff0_0242ac1c0002row2_col5\" class=\"data row2 col5\" >-0.53</td>\n",
              "                        <td id=\"T_f84ef1ae_70f8_11e9_aff0_0242ac1c0002row2_col6\" class=\"data row2 col6\" >-0.37</td>\n",
              "                        <td id=\"T_f84ef1ae_70f8_11e9_aff0_0242ac1c0002row2_col7\" class=\"data row2 col7\" >0.65</td>\n",
              "                        <td id=\"T_f84ef1ae_70f8_11e9_aff0_0242ac1c0002row2_col8\" class=\"data row2 col8\" >-0.37</td>\n",
              "                        <td id=\"T_f84ef1ae_70f8_11e9_aff0_0242ac1c0002row2_col9\" class=\"data row2 col9\" >-0.44</td>\n",
              "            </tr>\n",
              "            <tr>\n",
              "                        <th id=\"T_f84ef1ae_70f8_11e9_aff0_0242ac1c0002level0_row3\" class=\"row_heading level0 row3\" >horsepower</th>\n",
              "                        <td id=\"T_f84ef1ae_70f8_11e9_aff0_0242ac1c0002row3_col0\" class=\"data row3 col0\" >-0.78</td>\n",
              "                        <td id=\"T_f84ef1ae_70f8_11e9_aff0_0242ac1c0002row3_col1\" class=\"data row3 col1\" >0.84</td>\n",
              "                        <td id=\"T_f84ef1ae_70f8_11e9_aff0_0242ac1c0002row3_col2\" class=\"data row3 col2\" >0.89</td>\n",
              "                        <td id=\"T_f84ef1ae_70f8_11e9_aff0_0242ac1c0002row3_col3\" class=\"data row3 col3\" >1</td>\n",
              "                        <td id=\"T_f84ef1ae_70f8_11e9_aff0_0242ac1c0002row3_col4\" class=\"data row3 col4\" >0.86</td>\n",
              "                        <td id=\"T_f84ef1ae_70f8_11e9_aff0_0242ac1c0002row3_col5\" class=\"data row3 col5\" >-0.67</td>\n",
              "                        <td id=\"T_f84ef1ae_70f8_11e9_aff0_0242ac1c0002row3_col6\" class=\"data row3 col6\" >-0.41</td>\n",
              "                        <td id=\"T_f84ef1ae_70f8_11e9_aff0_0242ac1c0002row3_col7\" class=\"data row3 col7\" >0.49</td>\n",
              "                        <td id=\"T_f84ef1ae_70f8_11e9_aff0_0242ac1c0002row3_col8\" class=\"data row3 col8\" >-0.28</td>\n",
              "                        <td id=\"T_f84ef1ae_70f8_11e9_aff0_0242ac1c0002row3_col9\" class=\"data row3 col9\" >-0.33</td>\n",
              "            </tr>\n",
              "            <tr>\n",
              "                        <th id=\"T_f84ef1ae_70f8_11e9_aff0_0242ac1c0002level0_row4\" class=\"row_heading level0 row4\" >weight</th>\n",
              "                        <td id=\"T_f84ef1ae_70f8_11e9_aff0_0242ac1c0002row4_col0\" class=\"data row4 col0\" >-0.83</td>\n",
              "                        <td id=\"T_f84ef1ae_70f8_11e9_aff0_0242ac1c0002row4_col1\" class=\"data row4 col1\" >0.9</td>\n",
              "                        <td id=\"T_f84ef1ae_70f8_11e9_aff0_0242ac1c0002row4_col2\" class=\"data row4 col2\" >0.93</td>\n",
              "                        <td id=\"T_f84ef1ae_70f8_11e9_aff0_0242ac1c0002row4_col3\" class=\"data row4 col3\" >0.86</td>\n",
              "                        <td id=\"T_f84ef1ae_70f8_11e9_aff0_0242ac1c0002row4_col4\" class=\"data row4 col4\" >1</td>\n",
              "                        <td id=\"T_f84ef1ae_70f8_11e9_aff0_0242ac1c0002row4_col5\" class=\"data row4 col5\" >-0.41</td>\n",
              "                        <td id=\"T_f84ef1ae_70f8_11e9_aff0_0242ac1c0002row4_col6\" class=\"data row4 col6\" >-0.31</td>\n",
              "                        <td id=\"T_f84ef1ae_70f8_11e9_aff0_0242ac1c0002row4_col7\" class=\"data row4 col7\" >0.6</td>\n",
              "                        <td id=\"T_f84ef1ae_70f8_11e9_aff0_0242ac1c0002row4_col8\" class=\"data row4 col8\" >-0.29</td>\n",
              "                        <td id=\"T_f84ef1ae_70f8_11e9_aff0_0242ac1c0002row4_col9\" class=\"data row4 col9\" >-0.44</td>\n",
              "            </tr>\n",
              "            <tr>\n",
              "                        <th id=\"T_f84ef1ae_70f8_11e9_aff0_0242ac1c0002level0_row5\" class=\"row_heading level0 row5\" >acceleration</th>\n",
              "                        <td id=\"T_f84ef1ae_70f8_11e9_aff0_0242ac1c0002row5_col0\" class=\"data row5 col0\" >0.42</td>\n",
              "                        <td id=\"T_f84ef1ae_70f8_11e9_aff0_0242ac1c0002row5_col1\" class=\"data row5 col1\" >-0.5</td>\n",
              "                        <td id=\"T_f84ef1ae_70f8_11e9_aff0_0242ac1c0002row5_col2\" class=\"data row5 col2\" >-0.53</td>\n",
              "                        <td id=\"T_f84ef1ae_70f8_11e9_aff0_0242ac1c0002row5_col3\" class=\"data row5 col3\" >-0.67</td>\n",
              "                        <td id=\"T_f84ef1ae_70f8_11e9_aff0_0242ac1c0002row5_col4\" class=\"data row5 col4\" >-0.41</td>\n",
              "                        <td id=\"T_f84ef1ae_70f8_11e9_aff0_0242ac1c0002row5_col5\" class=\"data row5 col5\" >1</td>\n",
              "                        <td id=\"T_f84ef1ae_70f8_11e9_aff0_0242ac1c0002row5_col6\" class=\"data row5 col6\" >0.28</td>\n",
              "                        <td id=\"T_f84ef1ae_70f8_11e9_aff0_0242ac1c0002row5_col7\" class=\"data row5 col7\" >-0.24</td>\n",
              "                        <td id=\"T_f84ef1ae_70f8_11e9_aff0_0242ac1c0002row5_col8\" class=\"data row5 col8\" >0.2</td>\n",
              "                        <td id=\"T_f84ef1ae_70f8_11e9_aff0_0242ac1c0002row5_col9\" class=\"data row5 col9\" >0.11</td>\n",
              "            </tr>\n",
              "            <tr>\n",
              "                        <th id=\"T_f84ef1ae_70f8_11e9_aff0_0242ac1c0002level0_row6\" class=\"row_heading level0 row6\" >model_year</th>\n",
              "                        <td id=\"T_f84ef1ae_70f8_11e9_aff0_0242ac1c0002row6_col0\" class=\"data row6 col0\" >0.58</td>\n",
              "                        <td id=\"T_f84ef1ae_70f8_11e9_aff0_0242ac1c0002row6_col1\" class=\"data row6 col1\" >-0.35</td>\n",
              "                        <td id=\"T_f84ef1ae_70f8_11e9_aff0_0242ac1c0002row6_col2\" class=\"data row6 col2\" >-0.37</td>\n",
              "                        <td id=\"T_f84ef1ae_70f8_11e9_aff0_0242ac1c0002row6_col3\" class=\"data row6 col3\" >-0.41</td>\n",
              "                        <td id=\"T_f84ef1ae_70f8_11e9_aff0_0242ac1c0002row6_col4\" class=\"data row6 col4\" >-0.31</td>\n",
              "                        <td id=\"T_f84ef1ae_70f8_11e9_aff0_0242ac1c0002row6_col5\" class=\"data row6 col5\" >0.28</td>\n",
              "                        <td id=\"T_f84ef1ae_70f8_11e9_aff0_0242ac1c0002row6_col6\" class=\"data row6 col6\" >1</td>\n",
              "                        <td id=\"T_f84ef1ae_70f8_11e9_aff0_0242ac1c0002row6_col7\" class=\"data row6 col7\" >-0.14</td>\n",
              "                        <td id=\"T_f84ef1ae_70f8_11e9_aff0_0242ac1c0002row6_col8\" class=\"data row6 col8\" >-0.022</td>\n",
              "                        <td id=\"T_f84ef1ae_70f8_11e9_aff0_0242ac1c0002row6_col9\" class=\"data row6 col9\" >0.19</td>\n",
              "            </tr>\n",
              "            <tr>\n",
              "                        <th id=\"T_f84ef1ae_70f8_11e9_aff0_0242ac1c0002level0_row7\" class=\"row_heading level0 row7\" >origin_country_1</th>\n",
              "                        <td id=\"T_f84ef1ae_70f8_11e9_aff0_0242ac1c0002row7_col0\" class=\"data row7 col0\" >-0.57</td>\n",
              "                        <td id=\"T_f84ef1ae_70f8_11e9_aff0_0242ac1c0002row7_col1\" class=\"data row7 col1\" >0.6</td>\n",
              "                        <td id=\"T_f84ef1ae_70f8_11e9_aff0_0242ac1c0002row7_col2\" class=\"data row7 col2\" >0.65</td>\n",
              "                        <td id=\"T_f84ef1ae_70f8_11e9_aff0_0242ac1c0002row7_col3\" class=\"data row7 col3\" >0.49</td>\n",
              "                        <td id=\"T_f84ef1ae_70f8_11e9_aff0_0242ac1c0002row7_col4\" class=\"data row7 col4\" >0.6</td>\n",
              "                        <td id=\"T_f84ef1ae_70f8_11e9_aff0_0242ac1c0002row7_col5\" class=\"data row7 col5\" >-0.24</td>\n",
              "                        <td id=\"T_f84ef1ae_70f8_11e9_aff0_0242ac1c0002row7_col6\" class=\"data row7 col6\" >-0.14</td>\n",
              "                        <td id=\"T_f84ef1ae_70f8_11e9_aff0_0242ac1c0002row7_col7\" class=\"data row7 col7\" >1</td>\n",
              "                        <td id=\"T_f84ef1ae_70f8_11e9_aff0_0242ac1c0002row7_col8\" class=\"data row7 col8\" >-0.59</td>\n",
              "                        <td id=\"T_f84ef1ae_70f8_11e9_aff0_0242ac1c0002row7_col9\" class=\"data row7 col9\" >-0.64</td>\n",
              "            </tr>\n",
              "            <tr>\n",
              "                        <th id=\"T_f84ef1ae_70f8_11e9_aff0_0242ac1c0002level0_row8\" class=\"row_heading level0 row8\" >origin_country_2</th>\n",
              "                        <td id=\"T_f84ef1ae_70f8_11e9_aff0_0242ac1c0002row8_col0\" class=\"data row8 col0\" >0.26</td>\n",
              "                        <td id=\"T_f84ef1ae_70f8_11e9_aff0_0242ac1c0002row8_col1\" class=\"data row8 col1\" >-0.35</td>\n",
              "                        <td id=\"T_f84ef1ae_70f8_11e9_aff0_0242ac1c0002row8_col2\" class=\"data row8 col2\" >-0.37</td>\n",
              "                        <td id=\"T_f84ef1ae_70f8_11e9_aff0_0242ac1c0002row8_col3\" class=\"data row8 col3\" >-0.28</td>\n",
              "                        <td id=\"T_f84ef1ae_70f8_11e9_aff0_0242ac1c0002row8_col4\" class=\"data row8 col4\" >-0.29</td>\n",
              "                        <td id=\"T_f84ef1ae_70f8_11e9_aff0_0242ac1c0002row8_col5\" class=\"data row8 col5\" >0.2</td>\n",
              "                        <td id=\"T_f84ef1ae_70f8_11e9_aff0_0242ac1c0002row8_col6\" class=\"data row8 col6\" >-0.022</td>\n",
              "                        <td id=\"T_f84ef1ae_70f8_11e9_aff0_0242ac1c0002row8_col7\" class=\"data row8 col7\" >-0.59</td>\n",
              "                        <td id=\"T_f84ef1ae_70f8_11e9_aff0_0242ac1c0002row8_col8\" class=\"data row8 col8\" >1</td>\n",
              "                        <td id=\"T_f84ef1ae_70f8_11e9_aff0_0242ac1c0002row8_col9\" class=\"data row8 col9\" >-0.23</td>\n",
              "            </tr>\n",
              "            <tr>\n",
              "                        <th id=\"T_f84ef1ae_70f8_11e9_aff0_0242ac1c0002level0_row9\" class=\"row_heading level0 row9\" >origin_country_3</th>\n",
              "                        <td id=\"T_f84ef1ae_70f8_11e9_aff0_0242ac1c0002row9_col0\" class=\"data row9 col0\" >0.44</td>\n",
              "                        <td id=\"T_f84ef1ae_70f8_11e9_aff0_0242ac1c0002row9_col1\" class=\"data row9 col1\" >-0.4</td>\n",
              "                        <td id=\"T_f84ef1ae_70f8_11e9_aff0_0242ac1c0002row9_col2\" class=\"data row9 col2\" >-0.44</td>\n",
              "                        <td id=\"T_f84ef1ae_70f8_11e9_aff0_0242ac1c0002row9_col3\" class=\"data row9 col3\" >-0.33</td>\n",
              "                        <td id=\"T_f84ef1ae_70f8_11e9_aff0_0242ac1c0002row9_col4\" class=\"data row9 col4\" >-0.44</td>\n",
              "                        <td id=\"T_f84ef1ae_70f8_11e9_aff0_0242ac1c0002row9_col5\" class=\"data row9 col5\" >0.11</td>\n",
              "                        <td id=\"T_f84ef1ae_70f8_11e9_aff0_0242ac1c0002row9_col6\" class=\"data row9 col6\" >0.19</td>\n",
              "                        <td id=\"T_f84ef1ae_70f8_11e9_aff0_0242ac1c0002row9_col7\" class=\"data row9 col7\" >-0.64</td>\n",
              "                        <td id=\"T_f84ef1ae_70f8_11e9_aff0_0242ac1c0002row9_col8\" class=\"data row9 col8\" >-0.23</td>\n",
              "                        <td id=\"T_f84ef1ae_70f8_11e9_aff0_0242ac1c0002row9_col9\" class=\"data row9 col9\" >1</td>\n",
              "            </tr>\n",
              "    </tbody></table>"
            ],
            "text/plain": [
              "<pandas.io.formats.style.Styler at 0x7f43b5934fd0>"
            ]
          },
          "metadata": {
            "tags": []
          },
          "execution_count": 146
        }
      ]
    },
    {
      "cell_type": "code",
      "metadata": {
        "id": "sDGCk8n4HYOk",
        "colab_type": "code",
        "colab": {}
      },
      "source": [
        "data_withoutscaling=data.copy()"
      ],
      "execution_count": 0,
      "outputs": []
    },
    {
      "cell_type": "code",
      "metadata": {
        "id": "MKpvNEEXgbP2",
        "colab_type": "code",
        "colab": {}
      },
      "source": [
        "from sklearn.preprocessing import StandardScaler\n",
        "from sklearn.tree import DecisionTreeRegressor\n",
        "from sklearn.linear_model import LinearRegression\n",
        "from sklearn.model_selection import train_test_split\n",
        "from sklearn.metrics import mean_squared_error\n",
        "from math import sqrt\n",
        "from sklearn.metrics import r2_score\n",
        "from sklearn.ensemble import GradientBoostingRegressor\n",
        "from sklearn.model_selection import GridSearchCV\n",
        "from sklearn.model_selection import KFold"
      ],
      "execution_count": 0,
      "outputs": []
    },
    {
      "cell_type": "code",
      "metadata": {
        "id": "LgTcfUn9ki9G",
        "colab_type": "code",
        "colab": {}
      },
      "source": [
        "def modelBuilder(dataset,features,target):\n",
        "  X = pd.DataFrame(dataset[features].copy())\n",
        "  y = dataset[target].copy()\n",
        "  X_train,X_test,y_train,y_test=train_test_split(X,y,test_size = 0.33,random_state=324)\n",
        "  X_train.shape[0] == y_train.shape[0]\n",
        "  regressor = LinearRegression()\n",
        "  model=regressor.fit(X_train,y_train)\n",
        "  y_train_predict = regressor.predict(X_train)\n",
        "  rmse = (np.sqrt(mean_squared_error(y_train, y_train_predict)))\n",
        "  r2 = r2_score(y_train, y_train_predict)\n",
        "  print(\"The model performance for training set\")\n",
        "  print(\"--------------------------------------\")\n",
        "  print('RMSE is {}'.format(rmse))\n",
        "  print('R2 score is {}'.format(r2))\n",
        "  #regressor.score(X_test, y_test)\n",
        "  print(\"\\n\")\n",
        "  y_test_predict = regressor.predict(X_test)\n",
        "  rmse = (np.sqrt(mean_squared_error(y_test, y_test_predict)))\n",
        "  r2 = r2_score(y_test, y_test_predict)\n",
        "  print(\"The model performance for testing set\")\n",
        "  print(\"--------------------------------------\")\n",
        "  print('RMSE is {}'.format(rmse))\n",
        "  print('R2 score is {}'.format(r2))\n",
        "  #regressor.score(X_test, y_test)\n",
        "  print(\"\\n\")\n",
        "  print('regressor.coef_')\n",
        "  print(\"--------------------------------------\")\n",
        "  for i in regressor.coef_:\n",
        "    print(round(i,2), end=\" \")\n",
        "  print('Regression plot on train data')\n",
        "  plt.scatter(x=y_train, y=y_train_predict)\n",
        "  plt.show()\n",
        "  print('Regression plot on test data')\n",
        "  plt.scatter(x=y_test, y=y_test_predict)\n",
        "  plt.show()"
      ],
      "execution_count": 0,
      "outputs": []
    },
    {
      "cell_type": "markdown",
      "metadata": {
        "id": "1ZqPw8gNuG-E",
        "colab_type": "text"
      },
      "source": [
        "**Checking normality of residuals **\n",
        "\n",
        "Shapiro Wilk test  from scipy library to check the normality of residuals.\n",
        "\n",
        "Null Hypothesis: The residuals are normally distributed.\n",
        "\n",
        "Alternative Hypothesis: The residuals are not normally distributed.\n"
      ]
    },
    {
      "cell_type": "markdown",
      "metadata": {
        "id": "GLusSfcWufzN",
        "colab_type": "text"
      },
      "source": [
        "**Checking for autocorrelation** To ensure the absence of autocorrelation we use Ljungbox test.\n",
        "\n",
        "Null Hypothesis: Autocorrelation is absent.\n",
        "\n",
        "Alternative Hypothesis: Autocorrelation is present."
      ]
    },
    {
      "cell_type": "markdown",
      "metadata": {
        "id": "JP0Qs0aluwHj",
        "colab_type": "text"
      },
      "source": [
        "**Checking heteroscedasticity** Using Goldfeld Quandt we test for heteroscedasticity.\n",
        "\n",
        "Null Hypothesis: Error terms are homoscedastic\n",
        "\n",
        "Alternative Hypothesis: Error terms are heteroscedastic."
      ]
    },
    {
      "cell_type": "code",
      "metadata": {
        "id": "O1aDbPy3piJN",
        "colab_type": "code",
        "colab": {}
      },
      "source": [
        "from scipy import stats\n",
        "from statsmodels.stats import diagnostic as diag\n",
        "import statsmodels.stats.api as sms\n",
        "from statsmodels.compat import lzip\n",
        "\n",
        "def ols_model_summary(dataset,features,target):\n",
        "  X = pd.DataFrame(dataset[features].copy())\n",
        "  y = dataset[target].copy()\n",
        "  X_train,X_test,y_train,y_test=train_test_split(X,y,test_size = 0.33,random_state=324)\n",
        "  X_train.shape[0] == y_train.shape[0]\n",
        "  ols_model=sm.OLS(y_train,X_train)\n",
        "  result=ols_model.fit()\n",
        "  print(result.summary())\n",
        "  print('\\n')\n",
        "  print('Checking normality of residuals')\n",
        "  print(\"--------------------------------------\")\n",
        "  print(stats.shapiro(result.resid))\n",
        "  print('\\n')\n",
        "  print('Checking for autocorrelation')\n",
        "  print(\"--------------------------------------\")\n",
        "  print(diag.acorr_ljungbox(result.resid , lags = 1) )\n",
        "  print('\\n')\n",
        "  print('Checking heteroscedasticity')\n",
        "  print(\"--------------------------------------\")\n",
        "  name = ['F statistic', 'p-value']\n",
        "  test = sms.het_goldfeldquandt(result.resid, result.model.exog)\n",
        "  lzip(name, test)\n",
        "  print(lzip(name, test))\n",
        "  print('\\n')"
      ],
      "execution_count": 0,
      "outputs": []
    },
    {
      "cell_type": "code",
      "metadata": {
        "id": "zoM0iV3kI14O",
        "colab_type": "code",
        "colab": {
          "base_uri": "https://localhost:8080/",
          "height": 1864
        },
        "outputId": "0b21a095-4b7e-4978-a100-a70370a9d355"
      },
      "source": [
        "features = ['cylinders','displacement','horsepower','weight','acceleration','model_year','origin_country_1','origin_country_2','origin_country_3']\n",
        "data_withoutscaling=data.copy()\n",
        "modelBuilder(data_withoutscaling,features,'mpg')\n",
        "ols_model_summary(data_withoutscaling,features,'mpg')"
      ],
      "execution_count": 141,
      "outputs": [
        {
          "output_type": "stream",
          "text": [
            "The model performance for training set\n",
            "--------------------------------------\n",
            "RMSE is 3.216652644424941\n",
            "R2 score is 0.835408683826966\n",
            "\n",
            "\n",
            "The model performance for testing set\n",
            "--------------------------------------\n",
            "RMSE is 3.4347211200984376\n",
            "R2 score is 0.8004340113693382\n",
            "\n",
            "\n",
            "regressor.coef_\n",
            "--------------------------------------\n",
            "-0.7 0.03 0.0 -0.01 0.13 0.78 -1.85 0.93 0.92 Regression plot on train data\n"
          ],
          "name": "stdout"
        },
        {
          "output_type": "display_data",
          "data": {
            "image/png": "[encoded data removed]",
            "text/plain": [
              "<Figure size 432x432 with 1 Axes>"
            ]
          },
          "metadata": {
            "tags": []
          }
        },
        {
          "output_type": "stream",
          "text": [
            "Regression plot on test data\n"
          ],
          "name": "stdout"
        },
        {
          "output_type": "display_data",
          "data": {
            "image/png": "[encoded data removed]",
            "text/plain": [
              "<Figure size 432x432 with 1 Axes>"
            ]
          },
          "metadata": {
            "tags": []
          }
        },
        {
          "output_type": "stream",
          "text": [
            "                            OLS Regression Results                            \n",
            "==============================================================================\n",
            "Dep. Variable:                    mpg   R-squared:                       0.835\n",
            "Model:                            OLS   Adj. R-squared:                  0.830\n",
            "Method:                 Least Squares   F-statistic:                     159.9\n",
            "Date:                Wed, 08 May 2019   Prob (F-statistic):           3.79e-94\n",
            "Time:                        02:55:09   Log-Likelihood:                -675.28\n",
            "No. Observations:                 261   AIC:                             1369.\n",
            "Df Residuals:                     252   BIC:                             1401.\n",
            "Df Model:                           8                                         \n",
            "Covariance Type:            nonrobust                                         \n",
            "====================================================================================\n",
            "                       coef    std err          t      P>|t|      [0.025      0.975]\n",
            "------------------------------------------------------------------------------------\n",
            "cylinders           -0.7044      0.389     -1.810      0.071      -1.471       0.062\n",
            "displacement         0.0276      0.010      2.801      0.005       0.008       0.047\n",
            "horsepower           0.0004      0.016      0.024      0.981      -0.031       0.032\n",
            "weight              -0.0075      0.001     -8.826      0.000      -0.009      -0.006\n",
            "acceleration         0.1276      0.120      1.064      0.288      -0.109       0.364\n",
            "model_year           0.7800      0.062     12.557      0.000       0.658       0.902\n",
            "origin_country_1   -17.8288      5.622     -3.171      0.002     -28.901      -6.757\n",
            "origin_country_2   -15.0570      5.545     -2.715      0.007     -25.978      -4.136\n",
            "origin_country_3   -15.0652      5.619     -2.681      0.008     -26.132      -3.999\n",
            "==============================================================================\n",
            "Omnibus:                       14.899   Durbin-Watson:                   2.162\n",
            "Prob(Omnibus):                  0.001   Jarque-Bera (JB):               24.702\n",
            "Skew:                           0.342   Prob(JB):                     4.32e-06\n",
            "Kurtosis:                       4.343   Cond. No.                     1.48e+05\n",
            "==============================================================================\n",
            "\n",
            "Warnings:\n",
            "[1] Standard Errors assume that the covariance matrix of the errors is correctly specified.\n",
            "[2] The condition number is large, 1.48e+05. This might indicate that there are\n",
            "strong multicollinearity or other numerical problems.\n",
            "\n",
            "\n",
            "Checking normality of residuals\n",
            "--------------------------------------\n",
            "(0.9835578799247742, 0.0041967397555708885)\n",
            "\n",
            "\n",
            "Checking for autocorrelation\n",
            "--------------------------------------\n",
            "(array([2.1327383]), array([0.14418298]))\n",
            "\n",
            "\n",
            "Checking heteroscedasticity\n",
            "--------------------------------------\n",
            "[('F statistic', 1.1419061591267723), ('p-value', 0.2327288256754677)]\n",
            "\n",
            "\n"
          ],
          "name": "stdout"
        }
      ]
    },
    {
      "cell_type": "code",
      "metadata": {
        "id": "h7qt8G0uetqi",
        "colab_type": "code",
        "colab": {}
      },
      "source": [
        "def scale(a):\n",
        "    b = (a-a.min())/(a.max()-a.min())\n",
        "    return b"
      ],
      "execution_count": 0,
      "outputs": []
    },
    {
      "cell_type": "code",
      "metadata": {
        "id": "a6F8p_ftKIbq",
        "colab_type": "code",
        "colab": {
          "base_uri": "https://localhost:8080/",
          "height": 1864
        },
        "outputId": "8211508d-79a4-48c7-c416-fa1d020e731a"
      },
      "source": [
        "features = ['cylinders','displacement','horsepower','weight','acceleration','model_year','origin_country_1','origin_country_2','origin_country_3']\n",
        "data_withscaling=data.copy()\n",
        "data_withscaling['displacement'] = scale(data_withscaling['displacement'])\n",
        "data_withscaling['horsepower'] = scale(data_withscaling['horsepower'])\n",
        "data_withscaling['acceleration'] = scale(data_withscaling['acceleration'])\n",
        "data_withscaling['weight'] = scale(data_withscaling['weight'])\n",
        "data_withscaling['mpg'] = scale(data_withscaling['mpg'])\n",
        "modelBuilder(data_withscaling,features,'mpg')\n",
        "ols_model_summary(data_withoutscaling,features,'mpg')"
      ],
      "execution_count": 143,
      "outputs": [
        {
          "output_type": "stream",
          "text": [
            "The model performance for training set\n",
            "--------------------------------------\n",
            "RMSE is 0.08554927245811016\n",
            "R2 score is 0.8354086838269659\n",
            "\n",
            "\n",
            "The model performance for testing set\n",
            "--------------------------------------\n",
            "RMSE is 0.09134896596006499\n",
            "R2 score is 0.8004340113693376\n",
            "\n",
            "\n",
            "regressor.coef_\n",
            "--------------------------------------\n",
            "-0.02 0.28 0.0 -0.71 0.06 0.02 -0.05 0.02 0.02 Regression plot on train data\n"
          ],
          "name": "stdout"
        },
        {
          "output_type": "display_data",
          "data": {
            "image/png": "[encoded data removed]",
            "text/plain": [
              "<Figure size 432x432 with 1 Axes>"
            ]
          },
          "metadata": {
            "tags": []
          }
        },
        {
          "output_type": "stream",
          "text": [
            "Regression plot on test data\n"
          ],
          "name": "stdout"
        },
        {
          "output_type": "display_data",
          "data": {
            "image/png": "[encoded data removed]",
            "text/plain": [
              "<Figure size 432x432 with 1 Axes>"
            ]
          },
          "metadata": {
            "tags": []
          }
        },
        {
          "output_type": "stream",
          "text": [
            "                            OLS Regression Results                            \n",
            "==============================================================================\n",
            "Dep. Variable:                    mpg   R-squared:                       0.835\n",
            "Model:                            OLS   Adj. R-squared:                  0.830\n",
            "Method:                 Least Squares   F-statistic:                     159.9\n",
            "Date:                Wed, 08 May 2019   Prob (F-statistic):           3.79e-94\n",
            "Time:                        02:55:22   Log-Likelihood:                -675.28\n",
            "No. Observations:                 261   AIC:                             1369.\n",
            "Df Residuals:                     252   BIC:                             1401.\n",
            "Df Model:                           8                                         \n",
            "Covariance Type:            nonrobust                                         \n",
            "====================================================================================\n",
            "                       coef    std err          t      P>|t|      [0.025      0.975]\n",
            "------------------------------------------------------------------------------------\n",
            "cylinders           -0.7044      0.389     -1.810      0.071      -1.471       0.062\n",
            "displacement         0.0276      0.010      2.801      0.005       0.008       0.047\n",
            "horsepower           0.0004      0.016      0.024      0.981      -0.031       0.032\n",
            "weight              -0.0075      0.001     -8.826      0.000      -0.009      -0.006\n",
            "acceleration         0.1276      0.120      1.064      0.288      -0.109       0.364\n",
            "model_year           0.7800      0.062     12.557      0.000       0.658       0.902\n",
            "origin_country_1   -17.8288      5.622     -3.171      0.002     -28.901      -6.757\n",
            "origin_country_2   -15.0570      5.545     -2.715      0.007     -25.978      -4.136\n",
            "origin_country_3   -15.0652      5.619     -2.681      0.008     -26.132      -3.999\n",
            "==============================================================================\n",
            "Omnibus:                       14.899   Durbin-Watson:                   2.162\n",
            "Prob(Omnibus):                  0.001   Jarque-Bera (JB):               24.702\n",
            "Skew:                           0.342   Prob(JB):                     4.32e-06\n",
            "Kurtosis:                       4.343   Cond. No.                     1.48e+05\n",
            "==============================================================================\n",
            "\n",
            "Warnings:\n",
            "[1] Standard Errors assume that the covariance matrix of the errors is correctly specified.\n",
            "[2] The condition number is large, 1.48e+05. This might indicate that there are\n",
            "strong multicollinearity or other numerical problems.\n",
            "\n",
            "\n",
            "Checking normality of residuals\n",
            "--------------------------------------\n",
            "(0.9835578799247742, 0.0041967397555708885)\n",
            "\n",
            "\n",
            "Checking for autocorrelation\n",
            "--------------------------------------\n",
            "(array([2.1327383]), array([0.14418298]))\n",
            "\n",
            "\n",
            "Checking heteroscedasticity\n",
            "--------------------------------------\n",
            "[('F statistic', 1.1419061591267723), ('p-value', 0.2327288256754677)]\n",
            "\n",
            "\n"
          ],
          "name": "stdout"
        }
      ]
    },
    {
      "cell_type": "code",
      "metadata": {
        "id": "HNilnep73-bP",
        "colab_type": "code",
        "colab": {
          "base_uri": "https://localhost:8080/",
          "height": 1566
        },
        "outputId": "a3ae434e-f0c5-440f-99cd-61208904295b"
      },
      "source": [
        "data.plot(x='displacement',y='mpg',kind='scatter',title='check correlation between displacement and mpg')\n",
        "data.plot(x='horsepower',y='mpg',kind='scatter',title='check correlation between horsepower and mpg')\n",
        "data.plot(x='weight',y='mpg',kind='scatter',title='check correlation between weight and mpg')\n",
        "data.plot(x='acceleration',y='mpg',kind='scatter',title='check correlation between acceleration and mpg')\n",
        "plt.show()"
      ],
      "execution_count": 144,
      "outputs": [
        {
          "output_type": "display_data",
          "data": {
            "image/png": "[encoded data removed]",
            "text/plain": [
              "<Figure size 432x432 with 1 Axes>"
            ]
          },
          "metadata": {
            "tags": []
          }
        },
        {
          "output_type": "display_data",
          "data": {
            "image/png": "[encoded data removed]",
            "text/plain": [
              "<Figure size 432x432 with 1 Axes>"
            ]
          },
          "metadata": {
            "tags": []
          }
        },
        {
          "output_type": "display_data",
          "data": {
            "image/png": "[encoded data removed]",
            "text/plain": [
              "<Figure size 432x432 with 1 Axes>"
            ]
          },
          "metadata": {
            "tags": []
          }
        },
        {
          "output_type": "display_data",
          "data": {
            "image/png": "[encoded data removed]",
            "text/plain": [
              "<Figure size 432x432 with 1 Axes>"
            ]
          },
          "metadata": {
            "tags": []
          }
        }
      ]
    },
    {
      "cell_type": "code",
      "metadata": {
        "id": "Z4JBJfPv675K",
        "colab_type": "code",
        "colab": {}
      },
      "source": [
        "\n",
        "def GBRegressionModel(dataset, features, target):\n",
        "  X = pd.DataFrame(dataset[features].copy())\n",
        "  y = dataset[target].copy()\n",
        "  X_train,X_test,y_train,y_test=train_test_split(X,y,test_size = 0.33,random_state=324)\n",
        "  X_train.shape[0] == y_train.shape[0]\n",
        "  gb_regressor = GradientBoostingRegressor(n_estimators=4000)\n",
        "  gb_regressor.fit(X_train,y_train)\n",
        "  gb_regressor.get_params()\n",
        "  y_predicted_gbr = gb_regressor.predict(X_test)\n",
        "  rmse_gbr = sqrt(mean_squared_error(y_true=y_test,y_pred=y_predicted_gbr))\n",
        "  r2_gbr = r2_score(y_test, y_predicted_gbr)\n",
        "  print('RMSE is {}'.format(rmse_gbr))\n",
        "  print('R2 score is {}'.format(r2_gbr))\n",
        "  fi= pd.Series(gb_regressor.feature_importances_,index=factors)\n",
        "  fi.plot.barh()"
      ],
      "execution_count": 0,
      "outputs": []
    },
    {
      "cell_type": "code",
      "metadata": {
        "id": "Cp2GV221ZA8w",
        "colab_type": "code",
        "colab": {
          "base_uri": "https://localhost:8080/",
          "height": 411
        },
        "outputId": "cbdb4465-852d-4457-ebb3-618a632d25f0"
      },
      "source": [
        "features = ['cylinders','displacement','horsepower','weight','acceleration','model_year','origin_country_1','origin_country_2','origin_country_3']\n",
        "target='mpg'\n",
        "data_withoutscaling=data.copy()\n",
        "GBRegressionModel(data_withoutscaling,features,target)"
      ],
      "execution_count": 153,
      "outputs": [
        {
          "output_type": "stream",
          "text": [
            "RMSE is 3.461980118466214\n",
            "R2 score is 0.7972538081464605\n"
          ],
          "name": "stdout"
        },
        {
          "output_type": "display_data",
          "data": {
            "image/png": "[encoded data removed]",
            "text/plain": [
              "<Figure size 432x432 with 1 Axes>"
            ]
          },
          "metadata": {
            "tags": []
          }
        }
      ]
    },
    {
      "cell_type": "code",
      "metadata": {
        "id": "Yzby9VD9Ye8P",
        "colab_type": "code",
        "colab": {
          "base_uri": "https://localhost:8080/",
          "height": 411
        },
        "outputId": "ae2004b5-ef55-4d6b-8cbe-324f4f8d9c00"
      },
      "source": [
        "features = ['cylinders','displacement','horsepower','weight','acceleration','model_year','origin_country_1','origin_country_2','origin_country_3']\n",
        "target='mpg'\n",
        "data_withscaling=data.copy()\n",
        "data_withscaling['displacement'] = scale(data_withscaling['displacement'])\n",
        "data_withscaling['horsepower'] = scale(data_withscaling['horsepower'])\n",
        "data_withscaling['acceleration'] = scale(data_withscaling['acceleration'])\n",
        "data_withscaling['weight'] = scale(data_withscaling['weight'])\n",
        "data_withscaling['mpg'] = scale(data_withscaling['mpg'])\n",
        "GBRegressionModel(data_withscaling,features,target)"
      ],
      "execution_count": 154,
      "outputs": [
        {
          "output_type": "stream",
          "text": [
            "RMSE is 0.09194949405986383\n",
            "R2 score is 0.7978014930231523\n"
          ],
          "name": "stdout"
        },
        {
          "output_type": "display_data",
          "data": {
            "image/png": "[encoded data removed]",
            "text/plain": [
              "<Figure size 432x432 with 1 Axes>"
            ]
          },
          "metadata": {
            "tags": []
          }
        }
      ]
    },
    {
      "cell_type": "code",
      "metadata": {
        "id": "gp_cuKtmcO4T",
        "colab_type": "code",
        "colab": {}
      },
      "source": [
        "def plot_feature_importances(model):\n",
        "    plt.figure(figsize=(8,6))\n",
        "    n_features = 8\n",
        "    plt.barh(range(n_features), model.feature_importances_, align='center')\n",
        "    plt.yticks(np.arange(n_features), df)\n",
        "    plt.xlabel(\"Feature importance\")\n",
        "    plt.ylabel(\"Feature\")\n",
        "    plt.ylim(-1, n_features)\n"
      ],
      "execution_count": 0,
      "outputs": []
    },
    {
      "cell_type": "code",
      "metadata": {
        "id": "o-hd-WNzE59D",
        "colab_type": "code",
        "colab": {}
      },
      "source": [
        "from sklearn.ensemble import RandomForestRegressor\n",
        "from sklearn import metrics\n",
        "def RFRegressionModel(dataset,features,target):\n",
        "  X = pd.DataFrame(dataset[features].copy())\n",
        "  y = dataset[target].copy()\n",
        "  X_train,X_test,y_train,y_test=train_test_split(X,y,test_size = 0.33,random_state=324)\n",
        "  X_train.shape[0] == y_train.shape[0]\n",
        "  rf = RandomForestRegressor(n_estimators = 1000, random_state = 42)\n",
        "  # Train the model on training data\n",
        "  rf.fit(X_train,y_train)\n",
        "  y_pred = regressor.predict(X_test)\n",
        "  print('Mean Absolute Error:', metrics.mean_absolute_error(y_test, y_pred))  \n",
        "  print('Mean Squared Error:', metrics.mean_squared_error(y_test, y_pred))  \n",
        "  print('Root Mean Squared Error:', np.sqrt(metrics.mean_squared_error(y_test, y_pred))) \n",
        "  r2_rf = rf.score(X_train, y_train)\n",
        "  print('R Squared:' + str(r2_rf))\n",
        "  print(rf.feature_importances_)\n"
      ],
      "execution_count": 0,
      "outputs": []
    },
    {
      "cell_type": "code",
      "metadata": {
        "id": "Ff31ClqLaepj",
        "colab_type": "code",
        "colab": {
          "base_uri": "https://localhost:8080/",
          "height": 118
        },
        "outputId": "eb06f861-775b-48f2-b8b8-fbbc08c012f1"
      },
      "source": [
        "features = ['cylinders','displacement','horsepower','weight','acceleration','model_year','origin_country_1','origin_country_2','origin_country_3']\n",
        "target='mpg'\n",
        "data_withscaling=data.copy()\n",
        "data_withscaling['displacement'] = scale(data_withscaling['displacement'])\n",
        "data_withscaling['horsepower'] = scale(data_withscaling['horsepower'])\n",
        "data_withscaling['acceleration'] = scale(data_withscaling['acceleration'])\n",
        "data_withscaling['weight'] = scale(data_withscaling['weight'])\n",
        "data_withscaling['mpg'] = scale(data_withscaling['mpg'])\n",
        "RFRegressionModel(data_withscaling,features,target)\n"
      ],
      "execution_count": 178,
      "outputs": [
        {
          "output_type": "stream",
          "text": [
            "Mean Absolute Error: 38.24631787035581\n",
            "Mean Squared Error: 1477.3989629375005\n",
            "Root Mean Squared Error: 38.43694788790469\n",
            "R Squared:0.9869930963451156\n",
            "[0.46726572 0.06271353 0.06487479 0.24637912 0.023902   0.12757515\n",
            " 0.00226336 0.0024641  0.00256223]\n"
          ],
          "name": "stdout"
        }
      ]
    },
    {
      "cell_type": "code",
      "metadata": {
        "id": "rHi88zH9bfRm",
        "colab_type": "code",
        "colab": {
          "base_uri": "https://localhost:8080/",
          "height": 118
        },
        "outputId": "c23352de-6b63-4de0-e5a5-3c6b151500dd"
      },
      "source": [
        "features = ['cylinders','displacement','horsepower','weight','acceleration','model_year','origin_country_1','origin_country_2','origin_country_3']\n",
        "target='mpg'\n",
        "data_withoutscaling=data.copy()\n",
        "RFRegressionModel(data_withoutscaling,features,target)"
      ],
      "execution_count": 179,
      "outputs": [
        {
          "output_type": "stream",
          "text": [
            "Mean Absolute Error: 2.6533946102189594\n",
            "Mean Squared Error: 11.797309172850264\n",
            "Root Mean Squared Error: 3.4347211200984376\n",
            "R Squared:0.9869954989807844\n",
            "[0.46863149 0.0613549  0.06449508 0.24648882 0.02430804 0.12757823\n",
            " 0.00215337 0.00246004 0.00253002]\n"
          ],
          "name": "stdout"
        }
      ]
    }
  ]
}